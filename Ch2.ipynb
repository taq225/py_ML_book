{
 "cells": [
  {
   "cell_type": "markdown",
   "metadata": {},
   "source": [
    "# Chapter 2 - 分類問題\n",
    "\n",
    "分類問題に\n",
    "\n",
    "- **パーセプトロン** (perceptron)\n",
    "- **ADALINE** (Adaptive Linear Neuron)\n",
    "\n",
    "を適用する.\n",
    "\n",
    "## パーセプトロン\n",
    "\n",
    "- **McCulloch-Pitts (MCP)ニューロン** (1943).\n",
    "    - 二値出力を行う単純な論理ゲート. 蓄積された信号が特定の閾値を超えた場合は, 出力信号が生成され, 伝達される.\n",
    "- Rosenblatt, MCPニューロンに基づくパーセプトロンの学習規則 (1957).\n",
    "    - 最適な重み係数を自動的に学習した後, 入力信号と掛け合わせ, ニューロンが発火するかどうかを判断するアルゴリズムの提案.\n",
    "\n",
    "パーセプトロンを用いて分類問題を解いてみる.\n",
    "\n",
    "- 分類問題: サンプルが二つのクラスのどちらに属するかを予測する問題.\n",
    "    - 陽性クラスを1, 陰性クラスを-1とする.\n",
    "- **活性化関数** (activation function) として, 閾値 $\\theta$ のHeaviside関数を使う:\n",
    "    $$\n",
    "        \\phi (z) \\triangleq \\begin{cases} 1 & (z \\ge \\theta) \\\\ -1 & (z < \\theta) \\end{cases}\n",
    "    $$\n",
    "    - $z$ は, 入力 $x = (x_1, \\dots, x_m)^{\\top}$ と重み $w = (w_1, \\dots, w_m)^{\\top}$ についての総入力:\n",
    "    $$\n",
    "        z = \\sum_{i=1}^{m} w_ix_i = w^{\\top}x.\n",
    "    $$\n",
    "    - $w_0 = - \\theta$, $x_0 = 1$ として, 改めて $w = (w_0, \\dots, w_m)^{\\top}$, $x = (x_0, \\dots, x_m)^{\\top}$ とすれば, \n",
    "    $$\n",
    "        \\phi (z) = \\begin{cases} 1 & (z \\ge 0) \\\\ -1 & (z < 0) \\end{cases}, ~~ z = w^{\\top}x.\n",
    "    $$\n",
    "    - $\\phi (w^{\\top}x) = 0$ を境界に, クラス1とクラス-1とを分離.\n",
    "\n",
    "### Rosenblattのパーセプトロンの初期の学習規則\n",
    "\n",
    "1. 重みを0または値の小さい乱数で初期化.\n",
    "2. トレーニングサンプル $x^{(i)}$ ごとに以下の手順を実行:\n",
    "    1. 出力値 $\\hat{y} \\in \\{1, -1\\}$ を計算.\n",
    "    2. 重み $w$ を以下の式で更新:\n",
    "    $$\n",
    "        w := w + \\Delta w, ~~ \\Delta w = \\eta (y^{(i)} - \\hat{y}^{(i)})x^{(i)}.\n",
    "    $$\n",
    "        - $\\eta \\in (0, 1]$: 学習率.\n",
    "        - $y^{(i)}$: $i$ 番目のサンプルの真のラベル.\n",
    "        - $\\hat{y}^{(i)}$: $i$ 番目のサンプルの予測されたラベル.\n",
    "3. すべてのサンプルが正しく分類されるようになれば, アルゴリズム終了. そうでないなら2に戻る.\n",
    "\n",
    "### 動作の特徴\n",
    "\n",
    "- 重みの修正について:\n",
    "    - 予測が正しければ, 重みは変化しない.\n",
    "    - 予測が正しくなければ, 重みは正しいクラスに向かうように修正される.\n",
    "- 収束性について:\n",
    "    - 二つのクラスが線形分離可能で, 学習率が十分小さいときに限り, パーセプトロンの収束が保証される.\n",
    "    - 線形分離不可能な時は, データセットに対するトレーニングの最大回数 (エポック) や, 誤分類の最大数を設定することで, 無限ループを回避.\n",
    "\n",
    "以下のコードが, パーセプトロンの学習規則を実装したもの."
   ]
  },
  {
   "cell_type": "code",
   "execution_count": 1,
   "metadata": {
    "collapsed": true
   },
   "outputs": [],
   "source": [
    "import numpy as np\n",
    "\n",
    "\n",
    "class Perceptron(object):\n",
    "    \"\"\"Perceptron classifier.\n",
    "\n",
    "    Parameters\n",
    "    ------------\n",
    "    eta : float\n",
    "        Learning rate (between 0.0 and 1.0)\n",
    "    n_iter : int\n",
    "        Passes over the training dataset.\n",
    "\n",
    "    Attributes\n",
    "    -----------\n",
    "    w_ : 1d-array\n",
    "        Weights after fitting.\n",
    "    errors_ : list\n",
    "        Number of misclassifications (updates) in each epoch.\n",
    "\n",
    "    \"\"\"\n",
    "    def __init__(self, eta=0.01, n_iter=10):\n",
    "        self.eta = eta\n",
    "        self.n_iter = n_iter\n",
    "\n",
    "    def fit(self, X, y):\n",
    "        \"\"\"Fit training data.\n",
    "\n",
    "        Parameters\n",
    "        ----------\n",
    "        X : {array-like}, shape = [n_samples, n_features]\n",
    "            Training vectors, where n_samples is the number of samples and\n",
    "            n_features is the number of features.\n",
    "        y : array-like, shape = [n_samples]\n",
    "            Target values.\n",
    "\n",
    "        Returns\n",
    "        -------\n",
    "        self : object\n",
    "\n",
    "        \"\"\"\n",
    "        self.w_ = np.zeros(1 + X.shape[1])\n",
    "        self.errors_ = []\n",
    "\n",
    "        for _ in range(self.n_iter):\n",
    "            errors = 0\n",
    "            for xi, target in zip(X, y):\n",
    "                update = self.eta * (target - self.predict(xi))\n",
    "                self.w_[1:] += update * xi\n",
    "                self.w_[0] += update\n",
    "                errors += int(update != 0.0)\n",
    "            self.errors_.append(errors)\n",
    "        return self\n",
    "\n",
    "    def net_input(self, X):\n",
    "        \"\"\"Calculate net input\"\"\"\n",
    "        return np.dot(X, self.w_[1:]) + self.w_[0]\n",
    "\n",
    "    def predict(self, X):\n",
    "        \"\"\"Return class label after unit step\"\"\"\n",
    "        return np.where(self.net_input(X) >= 0.0, 1, -1)"
   ]
  },
  {
   "cell_type": "markdown",
   "metadata": {},
   "source": [
    "具体例として, pandasを用いてFisherのアヤメデータセットを読み込む."
   ]
  },
  {
   "cell_type": "code",
   "execution_count": 2,
   "metadata": {
    "collapsed": false,
    "scrolled": true
   },
   "outputs": [
    {
     "data": {
      "text/html": [
       "<div>\n",
       "<table border=\"1\" class=\"dataframe\">\n",
       "  <thead>\n",
       "    <tr style=\"text-align: right;\">\n",
       "      <th></th>\n",
       "      <th>0</th>\n",
       "      <th>1</th>\n",
       "      <th>2</th>\n",
       "      <th>3</th>\n",
       "      <th>4</th>\n",
       "    </tr>\n",
       "  </thead>\n",
       "  <tbody>\n",
       "    <tr>\n",
       "      <th>145</th>\n",
       "      <td>6.7</td>\n",
       "      <td>3.0</td>\n",
       "      <td>5.2</td>\n",
       "      <td>2.3</td>\n",
       "      <td>Iris-virginica</td>\n",
       "    </tr>\n",
       "    <tr>\n",
       "      <th>146</th>\n",
       "      <td>6.3</td>\n",
       "      <td>2.5</td>\n",
       "      <td>5.0</td>\n",
       "      <td>1.9</td>\n",
       "      <td>Iris-virginica</td>\n",
       "    </tr>\n",
       "    <tr>\n",
       "      <th>147</th>\n",
       "      <td>6.5</td>\n",
       "      <td>3.0</td>\n",
       "      <td>5.2</td>\n",
       "      <td>2.0</td>\n",
       "      <td>Iris-virginica</td>\n",
       "    </tr>\n",
       "    <tr>\n",
       "      <th>148</th>\n",
       "      <td>6.2</td>\n",
       "      <td>3.4</td>\n",
       "      <td>5.4</td>\n",
       "      <td>2.3</td>\n",
       "      <td>Iris-virginica</td>\n",
       "    </tr>\n",
       "    <tr>\n",
       "      <th>149</th>\n",
       "      <td>5.9</td>\n",
       "      <td>3.0</td>\n",
       "      <td>5.1</td>\n",
       "      <td>1.8</td>\n",
       "      <td>Iris-virginica</td>\n",
       "    </tr>\n",
       "  </tbody>\n",
       "</table>\n",
       "</div>"
      ],
      "text/plain": [
       "       0    1    2    3               4\n",
       "145  6.7  3.0  5.2  2.3  Iris-virginica\n",
       "146  6.3  2.5  5.0  1.9  Iris-virginica\n",
       "147  6.5  3.0  5.2  2.0  Iris-virginica\n",
       "148  6.2  3.4  5.4  2.3  Iris-virginica\n",
       "149  5.9  3.0  5.1  1.8  Iris-virginica"
      ]
     },
     "execution_count": 2,
     "metadata": {},
     "output_type": "execute_result"
    }
   ],
   "source": [
    "import pandas as pd\n",
    "\n",
    "df = pd.read_csv('https://archive.ics.uci.edu/ml/'\n",
    "        'machine-learning-databases/iris/iris.data', header=None)\n",
    "df.tail()"
   ]
  },
  {
   "cell_type": "markdown",
   "metadata": {},
   "source": [
    "分類のラベルを-1, 1に変換したものを `y`, 表から萼片の長さと花弁の長さのデータを抽出して作った特徴行列を `X` とする.\n",
    "分布を図示してみる."
   ]
  },
  {
   "cell_type": "code",
   "execution_count": 3,
   "metadata": {
    "collapsed": false
   },
   "outputs": [
    {
     "data": {
      "image/png": "[encoded data removed]",
      "text/plain": [
       "<matplotlib.figure.Figure at 0x213b85e0128>"
      ]
     },
     "metadata": {},
     "output_type": "display_data"
    }
   ],
   "source": [
    "%matplotlib inline\n",
    "import matplotlib.pyplot as plt\n",
    "import numpy as np\n",
    "\n",
    "# select setosa and versicolor\n",
    "y = df.iloc[0:100, 4].values\n",
    "y = np.where(y == 'Iris-setosa', -1, 1)\n",
    "\n",
    "# extract sepal length and petal length\n",
    "X = df.iloc[0:100, [0, 2]].values\n",
    "\n",
    "# plot data\n",
    "plt.scatter(X[:50, 0], X[:50, 1],\n",
    "            color='red', marker='o', label='setosa')\n",
    "plt.scatter(X[50:100, 0], X[50:100, 1],\n",
    "            color='blue', marker='x', label='versicolor')\n",
    "\n",
    "plt.xlabel('sepal length [cm]')\n",
    "plt.ylabel('petal length [cm]')\n",
    "plt.legend(loc='upper left')\n",
    "\n",
    "plt.tight_layout()\n",
    "#plt.savefig('./images/02_06.png', dpi=300)\n",
    "plt.show()"
   ]
  },
  {
   "cell_type": "markdown",
   "metadata": {},
   "source": [
    "見たところ線形分離可能らしい."
   ]
  },
  {
   "cell_type": "markdown",
   "metadata": {},
   "source": [
    "このデータセットで, パーセプトロンのアルゴリズムを用いて決定境界を見つける.\n",
    "アルゴリズムの収束性を確かめるため, 各エポックの誤分類の個数をプロットしてみる."
   ]
  },
  {
   "cell_type": "code",
   "execution_count": 4,
   "metadata": {
    "collapsed": false
   },
   "outputs": [
    {
     "data": {
      "image/png": "[encoded data removed]",
      "text/plain": [
       "<matplotlib.figure.Figure at 0x213b75ffa58>"
      ]
     },
     "metadata": {},
     "output_type": "display_data"
    }
   ],
   "source": [
    "ppn = Perceptron(eta=0.1, n_iter=10)\n",
    "\n",
    "ppn.fit(X, y)\n",
    "\n",
    "plt.plot(range(1, len(ppn.errors_) + 1), ppn.errors_, marker='o')\n",
    "plt.xlabel('Epochs')\n",
    "plt.ylabel('Number of updates')\n",
    "\n",
    "plt.tight_layout()\n",
    "# plt.savefig('./perceptron_1.png', dpi=300)\n",
    "plt.show()"
   ]
  },
  {
   "cell_type": "markdown",
   "metadata": {},
   "source": [
    "6回目で収束している.\n",
    "トレーニングサンプルを完全に分類できるようになっている."
   ]
  },
  {
   "cell_type": "markdown",
   "metadata": {
    "collapsed": true
   },
   "source": [
    "2次元データセットの決定境界の可視化のために, 以下の関数を定義."
   ]
  },
  {
   "cell_type": "code",
   "execution_count": 6,
   "metadata": {
    "collapsed": true
   },
   "outputs": [],
   "source": [
    "from matplotlib.colors import ListedColormap\n",
    "\n",
    "\n",
    "def plot_decision_regions(X, y, classifier, resolution=0.02):\n",
    "\n",
    "    # setup marker generator and color map\n",
    "    markers = ('s', 'x', 'o', '^', 'v')\n",
    "    colors = ('red', 'blue', 'lightgreen', 'gray', 'cyan')\n",
    "    cmap = ListedColormap(colors[:len(np.unique(y))])\n",
    "\n",
    "    # plot the decision surface\n",
    "    x1_min, x1_max = X[:, 0].min() - 1, X[:, 0].max() + 1\n",
    "    x2_min, x2_max = X[:, 1].min() - 1, X[:, 1].max() + 1\n",
    "    xx1, xx2 = np.meshgrid(np.arange(x1_min, x1_max, resolution),\n",
    "                           np.arange(x2_min, x2_max, resolution))\n",
    "    Z = classifier.predict(np.array([xx1.ravel(), xx2.ravel()]).T)\n",
    "    Z = Z.reshape(xx1.shape)\n",
    "    plt.contourf(xx1, xx2, Z, alpha=0.4, cmap=cmap)\n",
    "    plt.xlim(xx1.min(), xx1.max())\n",
    "    plt.ylim(xx2.min(), xx2.max())\n",
    "\n",
    "    # plot class samples\n",
    "    for idx, cl in enumerate(np.unique(y)):\n",
    "        plt.scatter(x=X[y == cl, 0], y=X[y == cl, 1],\n",
    "                    alpha=0.8, c=cmap(idx),\n",
    "                    edgecolor='black',\n",
    "                    marker=markers[idx], \n",
    "                    label=cl)"
   ]
  },
  {
   "cell_type": "markdown",
   "metadata": {},
   "source": [
    "プロットしてみる."
   ]
  },
  {
   "cell_type": "code",
   "execution_count": 7,
   "metadata": {
    "collapsed": false
   },
   "outputs": [
    {
     "data": {
      "image/png": "[encoded data removed]",
      "text/plain": [
       "<matplotlib.figure.Figure at 0x213b7d6ebe0>"
      ]
     },
     "metadata": {},
     "output_type": "display_data"
    }
   ],
   "source": [
    "plot_decision_regions(X, y, classifier=ppn)\n",
    "plt.xlabel('sepal length [cm]')\n",
    "plt.ylabel('petal length [cm]')\n",
    "plt.legend(loc='upper left')\n",
    "\n",
    "plt.tight_layout()\n",
    "# plt.savefig('./perceptron_2.png', dpi=300)\n",
    "plt.show()"
   ]
  },
  {
   "cell_type": "markdown",
   "metadata": {},
   "source": [
    "ちゃんと分離できていて大変めでたい."
   ]
  },
  {
   "cell_type": "markdown",
   "metadata": {},
   "source": [
    "## ADALINE\n",
    "\n",
    "- **ADALINE**: Widrow, Hoffによるパーセプトロンアルゴリズムの改良 (1960).\n",
    "- パーセプトロンとの主な違い: 重みの更新方法.\n",
    "    - パーセプトロン: Heaviside関数を用いて判定したラベルに基づいて重みが更新.\n",
    "    - ADALINE: 線形活性化関数 $\\phi (w^{\\top}x) = w^{\\top}x$ (恒等関数) の出力する連続値に基づいて重みが更新.\n",
    "- クラスラベルの予測には, **量子化器** (quantizer) を用いる.\n",
    "    - Heaviside関数である.\n",
    "\n",
    "## 勾配降下法\n",
    "\n",
    "- 教師あり機械学習のアルゴリズムでは, 学習過程で最適化される **目的関数** (objective function) を定義することがある.\n",
    "    - 多くの場合は, 最小化したい **コスト関数** (cost function) が目的関数に選ばれる.\n",
    "        - ADALINEでは, 重みの学習に用いるコスト関数 $J$ を, 計算結果と真のクラスラベルとの残差平方和として\n",
    "        $$\n",
    "            J(w) \\triangleq \\frac{1}{2} \\sum_{i = 1}^{n} (\\phi(w^{\\top}x^{(i)}) - y^{(i)})^2 = \\frac{1}{2} \\| X w - y \\|^2 \n",
    "        $$\n",
    "        と定義できる.\n",
    "        ただし, $X = (x^{(1)}, \\dots, x^{(n)})^{\\top}$, $y = (y^{(1)}, \\dots, y^{(n)})^{\\top}$\n",
    "        - このコスト関数は $w$ について微分可能で, かつ凸関数になっている.<br />\n",
    "        → 勾配降下法を利用して, コスト関数を最小化する重みを求められる.\n",
    "\n",
    "- **勾配降下法** (gradient descent): コストが局所的, または大域的最小値に達するまで, 勾配 (傾きが最も急な方向) に沿って \"坂を下る\".\n",
    "    - 反復のたびに, 勾配に沿って1ステップ進む. 進む距離は, 勾配の傾きと, 学習率によって決定される.\n",
    "\n",
    "ADALINEにおける勾配降下法による重みの更新は, 学習率を $\\eta$ として次の通り:\n",
    "$$\n",
    "    w := w + \\Delta w, ~~ \\Delta w = - \\eta \\nabla J(w).\n",
    "$$\n",
    "ここで, $\\nabla J(w) = X^{\\top} (Xw - y)$ であるから, 結局, \n",
    "$$\n",
    "    w := w - \\eta X^{\\top} (Xw - y).\n",
    "$$\n",
    "\n",
    "### 動作の特徴\n",
    "\n",
    "- トレーニングデータセット全体を用いて ($X = (x^{(1)}, \\dots, x^{(n)})^{\\top}$ はトレーニングデータセット全体から作られた行列である) 重みを計算している.\n"
   ]
  },
  {
   "cell_type": "code",
   "execution_count": 8,
   "metadata": {
    "collapsed": true
   },
   "outputs": [],
   "source": [
    "class AdalineGD(object):\n",
    "    \"\"\"ADAptive LInear NEuron classifier.\n",
    "\n",
    "    Parameters\n",
    "    ------------\n",
    "    eta : float\n",
    "        Learning rate (between 0.0 and 1.0)\n",
    "    n_iter : int\n",
    "        Passes over the training dataset.\n",
    "\n",
    "    Attributes\n",
    "    -----------\n",
    "    w_ : 1d-array\n",
    "        Weights after fitting.\n",
    "    cost_ : list\n",
    "        Sum-of-squares cost function value in each epoch.\n",
    "\n",
    "    \"\"\"\n",
    "    def __init__(self, eta=0.01, n_iter=50):\n",
    "        self.eta = eta\n",
    "        self.n_iter = n_iter\n",
    "\n",
    "    def fit(self, X, y):\n",
    "        \"\"\" Fit training data.\n",
    "\n",
    "        Parameters\n",
    "        ----------\n",
    "        X : {array-like}, shape = [n_samples, n_features]\n",
    "            Training vectors, where n_samples is the number of samples and\n",
    "            n_features is the number of features.\n",
    "        y : array-like, shape = [n_samples]\n",
    "            Target values.\n",
    "\n",
    "        Returns\n",
    "        -------\n",
    "        self : object\n",
    "\n",
    "        \"\"\"\n",
    "        self.w_ = np.zeros(1 + X.shape[1])\n",
    "        self.cost_ = []\n",
    "\n",
    "        for i in range(self.n_iter):\n",
    "            net_input = self.net_input(X)\n",
    "            # Please note that the \"activation\" method has no effect\n",
    "            # in the code since it is simply an identity function. We\n",
    "            # could write `output = self.net_input(X)` directly instead.\n",
    "            # The purpose of the activation is more conceptual, i.e.,  \n",
    "            # in the case of logistic regression, we could change it to\n",
    "            # a sigmoid function to implement a logistic regression classifier.\n",
    "            output = self.activation(X)\n",
    "            errors = (y - output)\n",
    "            self.w_[1:] += self.eta * X.T.dot(errors)\n",
    "            self.w_[0] += self.eta * errors.sum()\n",
    "            cost = (errors**2).sum() / 2.0\n",
    "            self.cost_.append(cost)\n",
    "        return self\n",
    "\n",
    "    def net_input(self, X):\n",
    "        \"\"\"Calculate net input\"\"\"\n",
    "        return np.dot(X, self.w_[1:]) + self.w_[0]\n",
    "\n",
    "    def activation(self, X):\n",
    "        \"\"\"Compute linear activation\"\"\"\n",
    "        return self.net_input(X)\n",
    "\n",
    "    def predict(self, X):\n",
    "        \"\"\"Return class label after unit step\"\"\"\n",
    "        return np.where(self.activation(X) >= 0.0, 1, -1)"
   ]
  },
  {
   "cell_type": "markdown",
   "metadata": {},
   "source": [
    "ADALINEの学習率 $\\eta$ は **ハイパーパラメータ** (hyperparameter) であり, 最適な学習率を見つけるにはある程度実験が必要.\n",
    "二つの学習率 $\\eta = 0.01$ と $\\eta = 0.0001$ で, コスト関数の値とエポック数をプロットし, どの程度効果的に学習するかを確認する."
   ]
  },
  {
   "cell_type": "code",
   "execution_count": 11,
   "metadata": {
    "collapsed": false
   },
   "outputs": [
    {
     "data": {
      "image/png": "[encoded data removed]",
      "text/plain": [
       "<matplotlib.figure.Figure at 0x213b8494c88>"
      ]
     },
     "metadata": {},
     "output_type": "display_data"
    }
   ],
   "source": [
    "fig, ax = plt.subplots(nrows=1, ncols=2, figsize=(8, 4))\n",
    "\n",
    "ada1 = AdalineGD(n_iter=10, eta=0.01).fit(X, y)\n",
    "ax[0].plot(range(1, len(ada1.cost_) + 1), np.log10(ada1.cost_), marker='o')\n",
    "ax[0].set_xlabel('Epochs')\n",
    "ax[0].set_ylabel('log(Sum-squared-error)')\n",
    "ax[0].set_title('Adaline - Learning rate 0.01')\n",
    "\n",
    "ada2 = AdalineGD(n_iter=10, eta=0.0001).fit(X, y)\n",
    "ax[1].plot(range(1, len(ada2.cost_) + 1), ada2.cost_, marker='o')\n",
    "ax[1].set_xlabel('Epochs')\n",
    "ax[1].set_ylabel('Sum-squared-error')\n",
    "ax[1].set_title('Adaline - Learning rate 0.0001')\n",
    "\n",
    "plt.tight_layout()\n",
    "# plt.savefig('./adaline_1.png', dpi=300)\n",
    "plt.show()"
   ]
  },
  {
   "cell_type": "markdown",
   "metadata": {},
   "source": [
    "- $\\eta = 0.01$ のときは, エポック数を重ねるごとに誤差が大きくなっている.<br />\n",
    "  → 学習率が大きすぎるため, 大域最小値を超えてしまう.\n",
    "- $\\eta = 0.0001$ のときは, エポック数を重ねるごとに誤差が小さくなっている.\n",
    "    - ただし, これは小さすぎるため, アルゴリズムの収束には相当な数のエポック数が必要."
   ]
  },
  {
   "cell_type": "markdown",
   "metadata": {},
   "source": [
    "- 機械学習のアルゴリズムで最適なパフォーマンスを実現するにあたって, 特徴量のスケーリングをすることが多い.\n",
    "    - 勾配降下法は, 特徴量のスケーリングに効果的なアルゴリズムの一つ.\n",
    "- 標準化: スケーリング手法の一つ. 各特徴量の平均を0, 分散を1にする方法.\n",
    "    - $j$ 番目の特徴量 $x_j$ を標準化すると\n",
    "    $$\n",
    "        x'_j = \\frac{x_j - \\mu_j}{\\sigma_j}\n",
    "    $$\n",
    "    となる.\n",
    "\n",
    "標準化してみる."
   ]
  },
  {
   "cell_type": "code",
   "execution_count": 12,
   "metadata": {
    "collapsed": true
   },
   "outputs": [],
   "source": [
    "# standardize features\n",
    "X_std = np.copy(X)\n",
    "X_std[:, 0] = (X[:, 0] - X[:, 0].mean()) / X[:, 0].std()\n",
    "X_std[:, 1] = (X[:, 1] - X[:, 1].mean()) / X[:, 1].std()"
   ]
  },
  {
   "cell_type": "markdown",
   "metadata": {},
   "source": [
    "**Memo**: <br />\n",
    "`X_std = np.copy(X)` で `X` の内容を `X_std` にディープコピーしている.\n",
    "`X_std` の内容を変更しても, `X` は変更を受けない.\n",
    "一方, `X_std = X` とするとシャローコピーとなり, `X_std` を変更すると `X` も変更されてしまう."
   ]
  },
  {
   "cell_type": "markdown",
   "metadata": {},
   "source": [
    "標準化したので, 学習率 $\\tea = 0.01$ のADALINEでトレーニングし, 収束することを確認する."
   ]
  },
  {
   "cell_type": "code",
   "execution_count": 13,
   "metadata": {
    "collapsed": false
   },
   "outputs": [
    {
     "data": {
      "image/png": "[encoded data removed]",
      "text/plain": [
       "<matplotlib.figure.Figure at 0x213b8234c88>"
      ]
     },
     "metadata": {},
     "output_type": "display_data"
    },
    {
     "data": {
      "image/png": "[encoded data removed]",
      "text/plain": [
       "<matplotlib.figure.Figure at 0x213b8898fd0>"
      ]
     },
     "metadata": {},
     "output_type": "display_data"
    }
   ],
   "source": [
    "ada = AdalineGD(n_iter=15, eta=0.01)\n",
    "ada.fit(X_std, y)\n",
    "\n",
    "plot_decision_regions(X_std, y, classifier=ada)\n",
    "plt.title('Adaline - Gradient Descent')\n",
    "plt.xlabel('sepal length [standardized]')\n",
    "plt.ylabel('petal length [standardized]')\n",
    "plt.legend(loc='upper left')\n",
    "plt.tight_layout()\n",
    "# plt.savefig('./adaline_2.png', dpi=300)\n",
    "plt.show()\n",
    "\n",
    "plt.plot(range(1, len(ada.cost_) + 1), ada.cost_, marker='o')\n",
    "plt.xlabel('Epochs')\n",
    "plt.ylabel('Sum-squared-error')\n",
    "\n",
    "plt.tight_layout()\n",
    "# plt.savefig('./adaline_3.png', dpi=300)\n",
    "plt.show()"
   ]
  },
  {
   "cell_type": "markdown",
   "metadata": {},
   "source": [
    "イケてる.\n",
    "すべてのサンプルが正しく分類されているが, 残差平方和は0にはなっていない."
   ]
  },
  {
   "cell_type": "markdown",
   "metadata": {},
   "source": [
    "## 大規模な機械学習と確率的勾配降下法\n",
    "\n",
    "- トレーニングデータセットが大きくなると, 勾配降下法における $X$ が大規模行列になる.<br />\n",
    "  → ステップごとにトレーニングデータ全体を再び評価するのは, 計算コストがかなりかかる可能性がある.\n",
    "- **確率的勾配降下法** (stochastic gradient descent): 勾配降下法で, 重みの更新量 $\\Delta w$ を\n",
    "    $$\n",
    "        \\Delta w = \\eta (y^{(i)} - w^{\\top}x^{(i)}) x^{(i)}\n",
    "    $$\n",
    "    とする.\n",
    "    - 勾配降下法の近似とみなせる.\n",
    "    - 重みの更新頻度が勾配降下法より高いので, 通常ははるかに高速に収束する.\n",
    "    - 勾配は, それぞれ一つのトレーニングサンプルに基づいて計算されているので, 勾配降下法より誤差曲面のノイズが多い.\n",
    "        - 確率的勾配降下法のほうが, 浅い極小値を簡単に抜け出せる.<br />\n",
    "    - 正確な結果を得るには, データをランダムな順序に並べ替えるのが重要.\n",
    "        - エポックごとにトレーニングデータをシャッフルして, 重み $w$ が同じ値に戻ってしまうのを避ける.\n",
    "    - 大域的最小解に収束しないが, それにかなり近い場所で収束する.\n",
    "    - 実装では, $k$ を反復回数, $c_1, c_2$ を定数として, 学習率 $\\eta$ を\n",
    "        $$\n",
    "            \\eta = \\frac{c_1}{k + c_2}\n",
    "        $$\n",
    "      などの徐々に減少する **適応学習率** (adaptive learning rate) にすることが多い.\n",
    "      これを用いることで, 固定の学習率を用いるよりも大域的最小解にさらに近づけることができる.\n",
    "    - **オンライン学習** (online learning) に利用することができる.\n",
    "        - 新しいトレーニングデータが届いたときに, その場でモデルがトレーニングされる.\n",
    "        - データが大量にあるとき, データ数が増えやすいときに利用.\n",
    "\n",
    "- **ミニバッチ学習** (mini-batch learning): 勾配降下法と確率的勾配降下法の折衷案.\n",
    "  一部のトレーニングデータを使って勾配降下法を適用する.\n",
    "    - 全部のトレーニングデータを用いるのが勾配降下法, 一つのトレーニングデータを用いるのが確率的勾配降下法.\n",
    "    - 勾配降下法よりも重みの更新頻度が高いので, 収束が速い.\n",
    "\n",
    "確率的勾配降下法で学習を行ってみる."
   ]
  },
  {
   "cell_type": "code",
   "execution_count": 14,
   "metadata": {
    "collapsed": true
   },
   "outputs": [],
   "source": [
    "from numpy.random import seed\n",
    "\n",
    "class AdalineSGD(object):\n",
    "    \"\"\"ADAptive LInear NEuron classifier.\n",
    "\n",
    "    Parameters\n",
    "    ------------\n",
    "    eta : float\n",
    "        Learning rate (between 0.0 and 1.0)\n",
    "    n_iter : int\n",
    "        Passes over the training dataset.\n",
    "\n",
    "    Attributes\n",
    "    -----------\n",
    "    w_ : 1d-array\n",
    "        Weights after fitting.\n",
    "    cost_ : list\n",
    "        Sum-of-squares cost function value averaged over all\n",
    "        training samples in each epoch.\n",
    "    shuffle : bool (default: True)\n",
    "        Shuffles training data every epoch if True to prevent cycles.\n",
    "    random_state : int (default: None)\n",
    "        Set random state for shuffling and initializing the weights.\n",
    "        \n",
    "    \"\"\"\n",
    "    def __init__(self, eta=0.01, n_iter=10, shuffle=True, random_state=None):\n",
    "        self.eta = eta\n",
    "        self.n_iter = n_iter\n",
    "        self.w_initialized = False\n",
    "        self.shuffle = shuffle\n",
    "        if random_state:\n",
    "            seed(random_state)\n",
    "        \n",
    "    def fit(self, X, y):\n",
    "        \"\"\" Fit training data.\n",
    "\n",
    "        Parameters\n",
    "        ----------\n",
    "        X : {array-like}, shape = [n_samples, n_features]\n",
    "            Training vectors, where n_samples is the number of samples and\n",
    "            n_features is the number of features.\n",
    "        y : array-like, shape = [n_samples]\n",
    "            Target values.\n",
    "\n",
    "        Returns\n",
    "        -------\n",
    "        self : object\n",
    "\n",
    "        \"\"\"\n",
    "        self._initialize_weights(X.shape[1])\n",
    "        self.cost_ = []\n",
    "        for i in range(self.n_iter):\n",
    "            if self.shuffle:\n",
    "                X, y = self._shuffle(X, y)\n",
    "            cost = []\n",
    "            for xi, target in zip(X, y):\n",
    "                cost.append(self._update_weights(xi, target))\n",
    "            avg_cost = sum(cost) / len(y)\n",
    "            self.cost_.append(avg_cost)\n",
    "        return self\n",
    "\n",
    "    def partial_fit(self, X, y):\n",
    "        \"\"\"Fit training data without reinitializing the weights\"\"\"\n",
    "        if not self.w_initialized:\n",
    "            self._initialize_weights(X.shape[1])\n",
    "        if y.ravel().shape[0] > 1:\n",
    "            for xi, target in zip(X, y):\n",
    "                self._update_weights(xi, target)\n",
    "        else:\n",
    "            self._update_weights(X, y)\n",
    "        return self\n",
    "\n",
    "    def _shuffle(self, X, y):\n",
    "        \"\"\"Shuffle training data\"\"\"\n",
    "        r = np.random.permutation(len(y))\n",
    "        return X[r], y[r]\n",
    "    \n",
    "    def _initialize_weights(self, m):\n",
    "        \"\"\"Initialize weights to zeros\"\"\"\n",
    "        self.w_ = np.zeros(1 + m)\n",
    "        self.w_initialized = True\n",
    "        \n",
    "    def _update_weights(self, xi, target):\n",
    "        \"\"\"Apply Adaline learning rule to update the weights\"\"\"\n",
    "        output = self.net_input(xi)\n",
    "        error = (target - output)\n",
    "        self.w_[1:] += self.eta * xi.dot(error)\n",
    "        self.w_[0] += self.eta * error\n",
    "        cost = 0.5 * error**2\n",
    "        return cost\n",
    "    \n",
    "    def net_input(self, X):\n",
    "        \"\"\"Calculate net input\"\"\"\n",
    "        return np.dot(X, self.w_[1:]) + self.w_[0]\n",
    "\n",
    "    def activation(self, X):\n",
    "        \"\"\"Compute linear activation\"\"\"\n",
    "        return self.net_input(X)\n",
    "\n",
    "    def predict(self, X):\n",
    "        \"\"\"Return class label after unit step\"\"\"\n",
    "        return np.where(self.activation(X) >= 0.0, 1, -1)"
   ]
  },
  {
   "cell_type": "code",
   "execution_count": 15,
   "metadata": {
    "collapsed": false
   },
   "outputs": [
    {
     "data": {
      "image/png": "[encoded data removed]",
      "text/plain": [
       "<matplotlib.figure.Figure at 0x213b9cae860>"
      ]
     },
     "metadata": {},
     "output_type": "display_data"
    },
    {
     "data": {
      "image/png": "[encoded data removed]",
      "text/plain": [
       "<matplotlib.figure.Figure at 0x213b8bebe10>"
      ]
     },
     "metadata": {},
     "output_type": "display_data"
    }
   ],
   "source": [
    "ada = AdalineSGD(n_iter=15, eta=0.01, random_state=1)\n",
    "ada.fit(X_std, y)\n",
    "\n",
    "plot_decision_regions(X_std, y, classifier=ada)\n",
    "plt.title('Adaline - Stochastic Gradient Descent')\n",
    "plt.xlabel('sepal length [standardized]')\n",
    "plt.ylabel('petal length [standardized]')\n",
    "plt.legend(loc='upper left')\n",
    "\n",
    "plt.tight_layout()\n",
    "#plt.savefig('./adaline_4.png', dpi=300)\n",
    "plt.show()\n",
    "\n",
    "plt.plot(range(1, len(ada.cost_) + 1), ada.cost_, marker='o')\n",
    "plt.xlabel('Epochs')\n",
    "plt.ylabel('Average Cost')\n",
    "\n",
    "plt.tight_layout()\n",
    "# plt.savefig('./adaline_5.png', dpi=300)\n",
    "plt.show()"
   ]
  }
 ],
 "metadata": {
  "kernelspec": {
   "display_name": "Python 3",
   "language": "python",
   "name": "python3"
  },
  "language_info": {
   "codemirror_mode": {
    "name": "ipython",
    "version": 3
   },
   "file_extension": ".py",
   "mimetype": "text/x-python",
   "name": "python",
   "nbconvert_exporter": "python",
   "pygments_lexer": "ipython3",
   "version": "3.6.0"
  }
 },
 "nbformat": 4,
 "nbformat_minor": 2
}
