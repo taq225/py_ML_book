{
 "cells": [
  {
   "cell_type": "markdown",
   "metadata": {},
   "source": [
    "# Chapter 5 - 次元削減でデータを圧縮する\n",
    "\n",
    "- データ圧縮: データの格納と分析に役立つ.\n",
    "- 次元削減の手法として, Ch.4では特徴選択をやった.\n",
    "    - もう一つの方法として, 特徴抽出を見ていく.\n",
    "        - データセットを変換し, 元の次元よりも低い次元の新しい特徴部分空間を作成する.\n",
    "\n",
    "この章では, 以下について勉強する:\n",
    "\n",
    "- 教師なしデータ圧縮: 主成分分析 (PCA).\n",
    "- 教師あり次元削減法: 線形判別分析 (LDA)\n",
    "- 非線形次元削減法: カーネル主成分分析."
   ]
  },
  {
   "cell_type": "code",
   "execution_count": 1,
   "metadata": {
    "collapsed": true
   },
   "outputs": [],
   "source": [
    "from IPython.display import Image\n",
    "%matplotlib inline"
   ]
  },
  {
   "cell_type": "code",
   "execution_count": 2,
   "metadata": {
    "collapsed": true
   },
   "outputs": [],
   "source": [
    "# Added version check for recent scikit-learn 0.18 checks\n",
    "from distutils.version import LooseVersion as Version\n",
    "from sklearn import __version__ as sklearn_version"
   ]
  },
  {
   "cell_type": "markdown",
   "metadata": {},
   "source": [
    "## 主成分分析による教師なし次元削減\n",
    "\n",
    "- 特徴抽出: データに含まれる情報の大部分を維持することを目標としたデータ圧縮の手段.\n",
    "    - 計算効率を改善するために利用される.\n",
    "    - 特に, 正則化されていないモデルを扱う場合などに, 次元の呪いを減らすのにも役立つ.\n",
    "- **主成分分析** (Principal Component Analysis: PCA): 教師なし線形変換法.\n",
    "    - 最もよく利用されるタスクは次元削減.\n",
    "        - 他にも使われている:\n",
    "            - 探索的データ解析.\n",
    "            - ノイズ除去.\n",
    "            - ゲノムデータや遺伝子発現量の解析\n",
    "    - 特徴量どうしの相関関係に基づいて, データからパターンを抽出するのに役立つ.\n",
    "    - 高次元データにおいて, 分散が最大になる方向を見つけ出し, 元の次元と同じかそれよりも次元の低い新しい部分空間へ射影する.\n",
    "    - 次元削減に利用する場合:\n",
    "        - 変換行列 $W \\in M_{d,k}(\\mathbb{R})$ を作成 ($k \\ll d$).\n",
    "        - これによりサンプルベクトル $x$ を新しい $k$ 次元特徴部分空間に写像できる:\n",
    "        $$\n",
    "            x = \\left( x_1, \\dots, x_d \\right) \\in \\mathbb{R}^d \\overset{xW}{\\longmapsto} z = \\left( z_1, \\dots, z_k \\right) \\in \\mathbb{R}^k\n",
    "        $$\n",
    "    - 生じるすべての主成分の分散が (それよりも前の主成分を除くと) 最大になるのは, 他の主成分と相関がない (i.e., 直交している) 場合.\n",
    "    - PCAの方向はデータのスケーリングに対して非常に敏感.\n",
    "        - すべての特徴量に等しい重要度を与えたい場合は, PCAを行う前に特徴量を標準化する必要がある.\n",
    "    - 以上をまとめると, 次の通り:\n",
    "        1. $d$ 次元のデータセットを標準化.\n",
    "        2. 標準化したデータセットの共分散行列を作成.\n",
    "        3. 共分散行列を固有ベクトルと固有値に分解.\n",
    "        4. 最も大きい $k$ 個の固有値に対応する $k$ 個の固有ベクトルを選択.\n",
    "        5. 上位 $k$ 個の固有ベクトルから, 射影行列 $W$ を作成.\n",
    "        6. 射影行列 $W$ で $d$ 次元の入力データセット $X$ を変換し, 新しい $k$ 次元の特徴部分空間を取得."
   ]
  },
  {
   "cell_type": "markdown",
   "metadata": {},
   "source": [
    " ### 共分散行列の固有対を求める\n",
    " \n",
    "ここでは, PCAの最初の4ステップをやる.\n",
    "Wineデータセットを使う."
   ]
  },
  {
   "cell_type": "code",
   "execution_count": 3,
   "metadata": {
    "collapsed": false
   },
   "outputs": [
    {
     "data": {
      "text/html": [
       "<div>\n",
       "<table border=\"1\" class=\"dataframe\">\n",
       "  <thead>\n",
       "    <tr style=\"text-align: right;\">\n",
       "      <th></th>\n",
       "      <th>Class label</th>\n",
       "      <th>Alcohol</th>\n",
       "      <th>Malic acid</th>\n",
       "      <th>Ash</th>\n",
       "      <th>Alcalinity of ash</th>\n",
       "      <th>Magnesium</th>\n",
       "      <th>Total phenols</th>\n",
       "      <th>Flavanoids</th>\n",
       "      <th>Nonflavanoid phenols</th>\n",
       "      <th>Proanthocyanins</th>\n",
       "      <th>Color intensity</th>\n",
       "      <th>Hue</th>\n",
       "      <th>OD280/OD315 of diluted wines</th>\n",
       "      <th>Proline</th>\n",
       "    </tr>\n",
       "  </thead>\n",
       "  <tbody>\n",
       "    <tr>\n",
       "      <th>0</th>\n",
       "      <td>1</td>\n",
       "      <td>14.23</td>\n",
       "      <td>1.71</td>\n",
       "      <td>2.43</td>\n",
       "      <td>15.6</td>\n",
       "      <td>127</td>\n",
       "      <td>2.80</td>\n",
       "      <td>3.06</td>\n",
       "      <td>0.28</td>\n",
       "      <td>2.29</td>\n",
       "      <td>5.64</td>\n",
       "      <td>1.04</td>\n",
       "      <td>3.92</td>\n",
       "      <td>1065</td>\n",
       "    </tr>\n",
       "    <tr>\n",
       "      <th>1</th>\n",
       "      <td>1</td>\n",
       "      <td>13.20</td>\n",
       "      <td>1.78</td>\n",
       "      <td>2.14</td>\n",
       "      <td>11.2</td>\n",
       "      <td>100</td>\n",
       "      <td>2.65</td>\n",
       "      <td>2.76</td>\n",
       "      <td>0.26</td>\n",
       "      <td>1.28</td>\n",
       "      <td>4.38</td>\n",
       "      <td>1.05</td>\n",
       "      <td>3.40</td>\n",
       "      <td>1050</td>\n",
       "    </tr>\n",
       "    <tr>\n",
       "      <th>2</th>\n",
       "      <td>1</td>\n",
       "      <td>13.16</td>\n",
       "      <td>2.36</td>\n",
       "      <td>2.67</td>\n",
       "      <td>18.6</td>\n",
       "      <td>101</td>\n",
       "      <td>2.80</td>\n",
       "      <td>3.24</td>\n",
       "      <td>0.30</td>\n",
       "      <td>2.81</td>\n",
       "      <td>5.68</td>\n",
       "      <td>1.03</td>\n",
       "      <td>3.17</td>\n",
       "      <td>1185</td>\n",
       "    </tr>\n",
       "    <tr>\n",
       "      <th>3</th>\n",
       "      <td>1</td>\n",
       "      <td>14.37</td>\n",
       "      <td>1.95</td>\n",
       "      <td>2.50</td>\n",
       "      <td>16.8</td>\n",
       "      <td>113</td>\n",
       "      <td>3.85</td>\n",
       "      <td>3.49</td>\n",
       "      <td>0.24</td>\n",
       "      <td>2.18</td>\n",
       "      <td>7.80</td>\n",
       "      <td>0.86</td>\n",
       "      <td>3.45</td>\n",
       "      <td>1480</td>\n",
       "    </tr>\n",
       "    <tr>\n",
       "      <th>4</th>\n",
       "      <td>1</td>\n",
       "      <td>13.24</td>\n",
       "      <td>2.59</td>\n",
       "      <td>2.87</td>\n",
       "      <td>21.0</td>\n",
       "      <td>118</td>\n",
       "      <td>2.80</td>\n",
       "      <td>2.69</td>\n",
       "      <td>0.39</td>\n",
       "      <td>1.82</td>\n",
       "      <td>4.32</td>\n",
       "      <td>1.04</td>\n",
       "      <td>2.93</td>\n",
       "      <td>735</td>\n",
       "    </tr>\n",
       "  </tbody>\n",
       "</table>\n",
       "</div>"
      ],
      "text/plain": [
       "   Class label  Alcohol  Malic acid   Ash  Alcalinity of ash  Magnesium  \\\n",
       "0            1    14.23        1.71  2.43               15.6        127   \n",
       "1            1    13.20        1.78  2.14               11.2        100   \n",
       "2            1    13.16        2.36  2.67               18.6        101   \n",
       "3            1    14.37        1.95  2.50               16.8        113   \n",
       "4            1    13.24        2.59  2.87               21.0        118   \n",
       "\n",
       "   Total phenols  Flavanoids  Nonflavanoid phenols  Proanthocyanins  \\\n",
       "0           2.80        3.06                  0.28             2.29   \n",
       "1           2.65        2.76                  0.26             1.28   \n",
       "2           2.80        3.24                  0.30             2.81   \n",
       "3           3.85        3.49                  0.24             2.18   \n",
       "4           2.80        2.69                  0.39             1.82   \n",
       "\n",
       "   Color intensity   Hue  OD280/OD315 of diluted wines  Proline  \n",
       "0             5.64  1.04                          3.92     1065  \n",
       "1             4.38  1.05                          3.40     1050  \n",
       "2             5.68  1.03                          3.17     1185  \n",
       "3             7.80  0.86                          3.45     1480  \n",
       "4             4.32  1.04                          2.93      735  "
      ]
     },
     "execution_count": 3,
     "metadata": {},
     "output_type": "execute_result"
    }
   ],
   "source": [
    "import pandas as pd\n",
    "\n",
    "df_wine = pd.read_csv('https://archive.ics.uci.edu/ml/'\n",
    "                      'machine-learning-databases/wine/wine.data',\n",
    "                      header=None)\n",
    "\n",
    "df_wine.columns = ['Class label', 'Alcohol', 'Malic acid', 'Ash',\n",
    "                   'Alcalinity of ash', 'Magnesium', 'Total phenols',\n",
    "                   'Flavanoids', 'Nonflavanoid phenols', 'Proanthocyanins',\n",
    "                   'Color intensity', 'Hue',\n",
    "                   'OD280/OD315 of diluted wines', 'Proline']\n",
    "\n",
    "df_wine.head()"
   ]
  },
  {
   "cell_type": "markdown",
   "metadata": {},
   "source": [
    "データセットを処理して, 70%をトレーニングデータセットに, 30%をテストデータセットに分割し, 分散が1になるように標準化する."
   ]
  },
  {
   "cell_type": "code",
   "execution_count": 4,
   "metadata": {
    "collapsed": true
   },
   "outputs": [],
   "source": [
    "if Version(sklearn_version) < '0.18':\n",
    "    from sklearn.cross_validation import train_test_split\n",
    "else:\n",
    "    from sklearn.model_selection import train_test_split\n",
    "\n",
    "X, y = df_wine.iloc[:, 1:].values, df_wine.iloc[:, 0].values\n",
    "\n",
    "X_train, X_test, y_train, y_test = train_test_split(X, y, test_size=0.3, random_state=0)\n",
    "\n",
    "from sklearn.preprocessing import StandardScaler\n",
    "\n",
    "sc = StandardScaler()\n",
    "X_train_std = sc.fit_transform(X_train)\n",
    "X_test_std = sc.transform(X_test)"
   ]
  },
  {
   "cell_type": "markdown",
   "metadata": {},
   "source": [
    "- 共分散行列 $\\Sigma$ は, サンプルの平均を $\\mu$ として以下の式で表される:\n",
    "    $$\n",
    "        \\Sigma \\triangleq \\frac{1}{n} \\sum_{i=1}^{n} \\left( x^{(i)} - \\mu \\right) \\left( x^{(i)} - \\mu \\right)^{\\top}.\n",
    "    $$\n",
    "- 二つの特徴量の間の共分散について:\n",
    "    - 正 → 二つの特徴量はともに増減する.\n",
    "    - 負 → 二つの特徴量はトレードオフの関係.\n",
    "- $\\Sigma$ の固有ベクトルは主成分 (i.e., 分散が最大となる方向) を表す.\n",
    "    - 対応する固有値はそれらの大きさを表す.\n",
    "\n",
    "$\\Sigma$ の固有対を取得する."
   ]
  },
  {
   "cell_type": "code",
   "execution_count": 5,
   "metadata": {
    "collapsed": false
   },
   "outputs": [
    {
     "name": "stdout",
     "output_type": "stream",
     "text": [
      "\n",
      "Eigenvalues \n",
      "[ 4.8923083   2.46635032  1.42809973  1.01233462  0.84906459  0.60181514\n",
      "  0.52251546  0.08414846  0.33051429  0.29595018  0.16831254  0.21432212\n",
      "  0.2399553 ]\n"
     ]
    }
   ],
   "source": [
    "import numpy as np\n",
    "cov_mat = np.cov(X_train_std.T)\n",
    "eigen_vals, eigen_vecs = np.linalg.eig(cov_mat)\n",
    "\n",
    "print('\\nEigenvalues \\n%s' % eigen_vals)"
   ]
  },
  {
   "cell_type": "markdown",
   "metadata": {},
   "source": [
    "なお, 対称行列の場合は, `np.linalg.eig()` を使うよりも `np.linalg.eigh()` のほうが数値的に安定するらしい."
   ]
  },
  {
   "cell_type": "markdown",
   "metadata": {},
   "source": [
    "データに含まれる大半の情報 (分散) を含んでいる固有ベクトル (主成分) だけを選択する.\n",
    "固有値の大きいものから, 順に降順で並べ替え, 上位 $k$ 個の固有値に対応する固有ベクトルを収集したい.\n",
    "\n",
    "その前に, ここでは固有値の**分散説明率** (variance explained ratio) をプロットしてみる.\n",
    "\n",
    "**Def.** (分散説明率):<br />\n",
    "固有値 $\\lambda_j$ の分散説明率とは, 固有値の合計に対する固有値 $\\lambda_j$ の割合\n",
    "$$\n",
    "    \\frac{\\lambda_j}{\\sum\\limits_{j=1}^{d} \\lambda_j}.\n",
    "$$\n",
    "のことである.\n",
    "\n",
    "分散説明率と, 累積和をプロットしてみる."
   ]
  },
  {
   "cell_type": "code",
   "execution_count": 6,
   "metadata": {
    "collapsed": true
   },
   "outputs": [],
   "source": [
    "tot = sum(eigen_vals)\n",
    "var_exp = [(i / tot) for i in sorted(eigen_vals, reverse=True)]\n",
    "cum_var_exp = np.cumsum(var_exp)"
   ]
  },
  {
   "cell_type": "code",
   "execution_count": 7,
   "metadata": {
    "collapsed": false
   },
   "outputs": [
    {
     "data": {
      "image/png": "[encoded data removed]",
      "text/plain": [
       "<matplotlib.figure.Figure at 0x19d8c35f080>"
      ]
     },
     "metadata": {},
     "output_type": "display_data"
    }
   ],
   "source": [
    "import matplotlib.pyplot as plt\n",
    "\n",
    "\n",
    "plt.bar(range(1, 14), var_exp, alpha=0.5, align='center', label='individual explained variance')\n",
    "plt.step(range(1, 14), cum_var_exp, where='mid', label='cumulative explained variance')\n",
    "plt.ylabel('Explained variance ratio')\n",
    "plt.xlabel('Principal components')\n",
    "plt.legend(loc='best')\n",
    "plt.tight_layout()\n",
    "# plt.savefig('./figures/pca1.png', dpi=300)\n",
    "plt.show()"
   ]
  },
  {
   "cell_type": "markdown",
   "metadata": {},
   "source": [
    "一つ目の主成分だけで, 分散の40%近くを占めていることがわかる.\n",
    "二つ目の主成分を合わせると, 分散の60%近くになる."
   ]
  },
  {
   "cell_type": "markdown",
   "metadata": {},
   "source": [
    "### 特徴変換\n",
    "\n",
    "Wineデータセットを新しい主成分軸に変換する.\n",
    "固有値の大きいものから順に固有対を並び替え, 選択された固有ベクトルから射影行列を生成する.\n",
    "生成された射影行列で低次元の部分空間に変換する.\n",
    "\n",
    "まず, 並び替えを行う."
   ]
  },
  {
   "cell_type": "code",
   "execution_count": 8,
   "metadata": {
    "collapsed": true
   },
   "outputs": [],
   "source": [
    "# Make a list of (eigenvalue, eigenvector) tuples\n",
    "eigen_pairs = [(np.abs(eigen_vals[i]), eigen_vecs[:, i])\n",
    "               for i in range(len(eigen_vals))]\n",
    "\n",
    "# Sort the (eigenvalue, eigenvector) tuples from high to low\n",
    "eigen_pairs.sort(key=lambda k: k[0], reverse=True)"
   ]
  },
  {
   "cell_type": "markdown",
   "metadata": {},
   "source": [
    "次に, 最も大きい二つの固有値に対する二つの固有ベクトルを集める.\n",
    "上で見た通り, これによりこのデータセットにおける分散の約60%を説明できる.\n",
    "\n",
    "ここでは二つの固有ベクトルをとってきたが, 実際には計算効率と分類器の性能のバランスを見ながら, 主成分の個数を決定する必要がある."
   ]
  },
  {
   "cell_type": "code",
   "execution_count": 9,
   "metadata": {
    "collapsed": false
   },
   "outputs": [
    {
     "name": "stdout",
     "output_type": "stream",
     "text": [
      "Matrix W:\n",
      " [[ 0.14669811  0.50417079]\n",
      " [-0.24224554  0.24216889]\n",
      " [-0.02993442  0.28698484]\n",
      " [-0.25519002 -0.06468718]\n",
      " [ 0.12079772  0.22995385]\n",
      " [ 0.38934455  0.09363991]\n",
      " [ 0.42326486  0.01088622]\n",
      " [-0.30634956  0.01870216]\n",
      " [ 0.30572219  0.03040352]\n",
      " [-0.09869191  0.54527081]\n",
      " [ 0.30032535 -0.27924322]\n",
      " [ 0.36821154 -0.174365  ]\n",
      " [ 0.29259713  0.36315461]]\n"
     ]
    }
   ],
   "source": [
    "w = np.hstack((eigen_pairs[0][1][:, np.newaxis], eigen_pairs[1][1][:, np.newaxis]))\n",
    "print('Matrix W:\\n', w)"
   ]
  },
  {
   "cell_type": "markdown",
   "metadata": {},
   "source": [
    "射影行列 $W$ が得られた.\n",
    "これを用いて, サンプル $x$ をPCAの部分空間に射影し, 2次元のサンプルベクトル $x'$ を得る:\n",
    "$$\n",
    "    x' = x W.\n",
    "$$\n",
    "これを全サンプルについて行うには, 次のようにすればよい:\n",
    "$$\n",
    "    X' = X W.\n",
    "$$\n",
    "\n",
    "変換後のWineトレーニングセットを, 2次元の散布図としてプロットしてみる."
   ]
  },
  {
   "cell_type": "code",
   "execution_count": 10,
   "metadata": {
    "collapsed": false
   },
   "outputs": [
    {
     "data": {
      "image/png": "[encoded data removed]",
      "text/plain": [
       "<matplotlib.figure.Figure at 0x19d8c954ba8>"
      ]
     },
     "metadata": {},
     "output_type": "display_data"
    }
   ],
   "source": [
    "X_train_pca = X_train_std.dot(w)\n",
    "colors = ['r', 'b', 'g']\n",
    "markers = ['s', 'x', 'o']\n",
    "\n",
    "for l, c, m in zip(np.unique(y_train), colors, markers):\n",
    "    plt.scatter(X_train_pca[y_train == l, 0], \n",
    "                X_train_pca[y_train == l, 1], \n",
    "                c=c, label=l, marker=m)\n",
    "\n",
    "plt.xlabel('PC 1')\n",
    "plt.ylabel('PC 2')\n",
    "plt.legend(loc='lower left')\n",
    "plt.tight_layout()\n",
    "# plt.savefig('./figures/pca2.png', dpi=300)\n",
    "plt.show()"
   ]
  },
  {
   "cell_type": "markdown",
   "metadata": {},
   "source": [
    "分散説明率の通り, 第二座標軸の方向よりも第一座標軸の方向にデータが広がっている.\n",
    "\n",
    "また, これらのクラスを線形分類器でうまく分割できそうなこともわかる.\n",
    "\n",
    "上の図ではクラスラベルを表記しているが, PCAは **教師なしの** データ圧縮方法であることに注意."
   ]
  },
  {
   "cell_type": "markdown",
   "metadata": {},
   "source": [
    "ていうかscikit-learnでやればいいじゃん:"
   ]
  },
  {
   "cell_type": "code",
   "execution_count": 11,
   "metadata": {
    "collapsed": false
   },
   "outputs": [
    {
     "data": {
      "text/plain": [
       "array([ 0.37329648,  0.18818926,  0.10896791,  0.07724389,  0.06478595,\n",
       "        0.04592014,  0.03986936,  0.02521914,  0.02258181,  0.01830924,\n",
       "        0.01635336,  0.01284271,  0.00642076])"
      ]
     },
     "execution_count": 11,
     "metadata": {},
     "output_type": "execute_result"
    }
   ],
   "source": [
    "from sklearn.decomposition import PCA\n",
    "\n",
    "pca = PCA()\n",
    "X_train_pca = pca.fit_transform(X_train_std)\n",
    "pca.explained_variance_ratio_"
   ]
  },
  {
   "cell_type": "code",
   "execution_count": 12,
   "metadata": {
    "collapsed": false
   },
   "outputs": [
    {
     "data": {
      "image/png": "[encoded data removed]",
      "text/plain": [
       "<matplotlib.figure.Figure at 0x19d8e8735c0>"
      ]
     },
     "metadata": {},
     "output_type": "display_data"
    }
   ],
   "source": [
    "plt.bar(range(1, 14), pca.explained_variance_ratio_, alpha=0.5, align='center')\n",
    "plt.step(range(1, 14), np.cumsum(pca.explained_variance_ratio_), where='mid')\n",
    "plt.ylabel('Explained variance ratio')\n",
    "plt.xlabel('Principal components')\n",
    "plt.show()"
   ]
  },
  {
   "cell_type": "markdown",
   "metadata": {},
   "source": [
    "分散説明率はこのようになっているらしい.\n",
    "なるほどなぁ.\n",
    "\n",
    "主成分数 2 でやってみる."
   ]
  },
  {
   "cell_type": "code",
   "execution_count": 13,
   "metadata": {
    "collapsed": true
   },
   "outputs": [],
   "source": [
    "pca = PCA(n_components=2)\n",
    "X_train_pca = pca.fit_transform(X_train_std)\n",
    "X_test_pca = pca.transform(X_test_std)"
   ]
  },
  {
   "cell_type": "code",
   "execution_count": 14,
   "metadata": {
    "collapsed": false
   },
   "outputs": [
    {
     "data": {
      "image/png": "[encoded data removed]",
      "text/plain": [
       "<matplotlib.figure.Figure at 0x19d8e8a1cf8>"
      ]
     },
     "metadata": {},
     "output_type": "display_data"
    }
   ],
   "source": [
    "plt.scatter(X_train_pca[:, 0], X_train_pca[:, 1])\n",
    "plt.xlabel('PC 1')\n",
    "plt.ylabel('PC 2')\n",
    "plt.show()"
   ]
  },
  {
   "cell_type": "markdown",
   "metadata": {},
   "source": [
    "プロットしたら, こんな感じの分布になった.\n",
    "ロジスティック回帰で分類し, 決定境界をプロットしてみる."
   ]
  },
  {
   "cell_type": "code",
   "execution_count": 15,
   "metadata": {
    "collapsed": true
   },
   "outputs": [],
   "source": [
    "from matplotlib.colors import ListedColormap\n",
    "\n",
    "def plot_decision_regions(X, y, classifier, resolution=0.02):\n",
    "\n",
    "    # setup marker generator and color map\n",
    "    markers = ('s', 'x', 'o', '^', 'v')\n",
    "    colors = ('red', 'blue', 'lightgreen', 'gray', 'cyan')\n",
    "    cmap = ListedColormap(colors[:len(np.unique(y))])\n",
    "\n",
    "    # plot the decision surface\n",
    "    x1_min, x1_max = X[:, 0].min() - 1, X[:, 0].max() + 1\n",
    "    x2_min, x2_max = X[:, 1].min() - 1, X[:, 1].max() + 1\n",
    "    xx1, xx2 = np.meshgrid(np.arange(x1_min, x1_max, resolution),\n",
    "                           np.arange(x2_min, x2_max, resolution))\n",
    "    Z = classifier.predict(np.array([xx1.ravel(), xx2.ravel()]).T)\n",
    "    Z = Z.reshape(xx1.shape)\n",
    "    plt.contourf(xx1, xx2, Z, alpha=0.4, cmap=cmap)\n",
    "    plt.xlim(xx1.min(), xx1.max())\n",
    "    plt.ylim(xx2.min(), xx2.max())\n",
    "\n",
    "    # plot class samples\n",
    "    for idx, cl in enumerate(np.unique(y)):\n",
    "        plt.scatter(x=X[y == cl, 0], \n",
    "                    y=X[y == cl, 1],\n",
    "                    alpha=0.6, \n",
    "                    c=cmap(idx),\n",
    "                    edgecolor='black',\n",
    "                    marker=markers[idx], \n",
    "                    label=cl)"
   ]
  },
  {
   "cell_type": "code",
   "execution_count": 16,
   "metadata": {
    "collapsed": true
   },
   "outputs": [],
   "source": [
    "from sklearn.linear_model import LogisticRegression\n",
    "\n",
    "lr = LogisticRegression()\n",
    "lr = lr.fit(X_train_pca, y_train)"
   ]
  },
  {
   "cell_type": "code",
   "execution_count": 17,
   "metadata": {
    "collapsed": false
   },
   "outputs": [
    {
     "data": {
      "image/png": "[encoded data removed]",
      "text/plain": [
       "<matplotlib.figure.Figure at 0x19d8e881cf8>"
      ]
     },
     "metadata": {},
     "output_type": "display_data"
    }
   ],
   "source": [
    "plot_decision_regions(X_train_pca, y_train, classifier=lr)\n",
    "plt.xlabel('PC 1')\n",
    "plt.ylabel('PC 2')\n",
    "plt.legend(loc='lower left')\n",
    "plt.tight_layout()\n",
    "# plt.savefig('./figures/pca3.png', dpi=300)\n",
    "plt.show()"
   ]
  },
  {
   "cell_type": "markdown",
   "metadata": {},
   "source": [
    "トレーニングデータセットではいい感じ.\n",
    "\n",
    "なお, 先ほどの図と異なっているのは, 固有ベクトルの方向が逆になっているだけなので, 特別問題ない.\n",
    "\n",
    "テストデータセットではどうか?"
   ]
  },
  {
   "cell_type": "code",
   "execution_count": 18,
   "metadata": {
    "collapsed": false
   },
   "outputs": [
    {
     "data": {
      "image/png": "[encoded data removed]",
      "text/plain": [
       "<matplotlib.figure.Figure at 0x19d8ee3b1d0>"
      ]
     },
     "metadata": {},
     "output_type": "display_data"
    }
   ],
   "source": [
    "plot_decision_regions(X_test_pca, y_test, classifier=lr)\n",
    "plt.xlabel('PC 1')\n",
    "plt.ylabel('PC 2')\n",
    "plt.legend(loc='lower left')\n",
    "plt.tight_layout()\n",
    "# plt.savefig('./figures/pca4.png', dpi=300)\n",
    "plt.show()"
   ]
  },
  {
   "cell_type": "markdown",
   "metadata": {},
   "source": [
    "いい感じ."
   ]
  },
  {
   "cell_type": "markdown",
   "metadata": {},
   "source": [
    "## 線形判別分析による教師ありデータ圧縮\n",
    "\n",
    "- **線形判別分析** (Linear Discriminant Analysis: LDA)\n",
    "    - 計算効率を高め, 正則化されていないモデルで「次元の呪い」による過学習を抑制するために使用できる.\n",
    "    - クラスの分離を最適化する特徴部分空間を見つけ出そうとする線形変換法.\n",
    "    - データセットの次元を減らせる.\n",
    "    - 教師ありアルゴリズム.\n",
    "        - 分類タスクの特徴抽出の手段としては, LDAのほうがPCAより優れている.\n",
    "    - 前提:\n",
    "        - データが正規分布に従っている.\n",
    "        - クラスの共分散行列が同じ.\n",
    "        - 特徴量が統計的にみて互いに独立している.\n",
    "    - ただし, 以上の前提を多少満たしていなくても, 次元削減の手段としてのLDAはそれなりにうまくいく.\n",
    "    - LDAの挙動:\n",
    "        1. $d$ 次元のデータセットを標準化.\n",
    "        2. クラスごとに $d$ 次元の平均ベクトルを計算.\n",
    "        3. クラス間変動行列 $S_B$ と, クラス内変動行列 $S_W$ を生成.\n",
    "        4. 行列 $S_W^{-1}S_B$ の固有ベクトルと対応する固有値を計算.\n",
    "        5. 変換行列 $W \\in M_{d,k}(\\mathbb{R})$ を生成するために, 最も大きい $k$ 個の固有値に対応する $k$ 個の固有ベクトルを選択. 固有ベクトルはこの行列 $W$ の列である.\n",
    "        6. 変換行列 $W$ を使ってサンプルを新しい特徴部分空間へ射影."
   ]
  },
  {
   "cell_type": "markdown",
   "metadata": {},
   "source": [
    "### 変動行列の計算\n",
    "\n",
    "- 属するサンプル数が $N_i$ のクラス $i$ (サンプルの集合: $D_i$) 内でサンプルの平均ベクトル $m_i$ を計算する:\n",
    "    $$\n",
    "        m_i \\triangleq  \\frac{1}{N_i} \\sum_{x \\in D_i} x.\n",
    "    $$\n",
    "    - 今回は3クラスあるので, 三つの平均ベクトル $m_i, ~~ i \\in \\{ 1,2,3 \\}$ が得られる."
   ]
  },
  {
   "cell_type": "code",
   "execution_count": 19,
   "metadata": {
    "collapsed": false
   },
   "outputs": [
    {
     "name": "stdout",
     "output_type": "stream",
     "text": [
      "MV 1: [ 0.9259 -0.3091  0.2592 -0.7989  0.3039  0.9608  1.0515 -0.6306  0.5354\n",
      "  0.2209  0.4855  0.798   1.2017]\n",
      "\n",
      "MV 2: [-0.8727 -0.3854 -0.4437  0.2481 -0.2409 -0.1059  0.0187 -0.0164  0.1095\n",
      " -0.8796  0.4392  0.2776 -0.7016]\n",
      "\n",
      "MV 3: [ 0.1637  0.8929  0.3249  0.5658 -0.01   -0.9499 -1.228   0.7436 -0.7652\n",
      "  0.979  -1.1698 -1.3007 -0.3912]\n",
      "\n"
     ]
    }
   ],
   "source": [
    "np.set_printoptions(precision=4)\n",
    "\n",
    "mean_vecs = []\n",
    "for label in range(1, 4):\n",
    "    mean_vecs.append(np.mean(X_train_std[y_train == label], axis=0))\n",
    "    print('MV %s: %s\\n' % (label, mean_vecs[label - 1]))"
   ]
  },
  {
   "cell_type": "markdown",
   "metadata": {},
   "source": [
    "- **クラス内変動行列** (within-class scatter matrix) $S_W$: 各クラス内で, サンプルがどの程度ばらついているかを表現するもの.\n",
    "    - 個々のクラス $i$ について,\n",
    "        $$\n",
    "            S_i \\triangleq \\sum_{x \\in D_i} (x-m_i)(x-m_i)^{\\top}\n",
    "        $$\n",
    "        と定義する.\n",
    "    - クラス内変動行列 $S_W$ の定義は次の通り:\n",
    "        $$\n",
    "            S_W \\triangleq \\sum_{i=1}^{c} S_i.\n",
    "        $$\n",
    "    - 変動行列を計算するときは, トレーニングデータセットにおいてクラスラベルが一様に分布していることが前提になる. (← なぜか?)\n",
    "        - 個々の変動行列 $S_i$ を合計して $S_W$ を生成する前に, スケーリングが必要:\n",
    "            $$\n",
    "                \\Sigma_i \\triangleq \\frac{1}{N_i} S_W = \\frac{1}{N_i} \\sum_{x \\in D_i} (x-m_i)(x-m_i)^{\\top}\n",
    "            $$\n",
    "            - スケーリングてできる $\\Sigma_i$ はクラス $i$ に対する共分散行列である."
   ]
  },
  {
   "cell_type": "code",
   "execution_count": 20,
   "metadata": {
    "collapsed": false
   },
   "outputs": [
    {
     "name": "stdout",
     "output_type": "stream",
     "text": [
      "Within-class scatter matrix: 13x13\n"
     ]
    }
   ],
   "source": [
    "d = 13  # number of features\n",
    "S_W = np.zeros((d, d))\n",
    "for label, mv in zip(range(1, 4), mean_vecs):\n",
    "    class_scatter = np.zeros((d, d))  # scatter matrix for each class\n",
    "    for row in X_train_std[y_train == label]:\n",
    "        row, mv = row.reshape(d, 1), mv.reshape(d, 1)  # make column vectors\n",
    "        class_scatter += (row - mv).dot((row - mv).T)\n",
    "    S_W += class_scatter                          # sum class scatter matrices\n",
    "\n",
    "print('Within-class scatter matrix: %sx%s' % (S_W.shape[0], S_W.shape[1]))"
   ]
  },
  {
   "cell_type": "code",
   "execution_count": 21,
   "metadata": {
    "collapsed": false
   },
   "outputs": [
    {
     "name": "stdout",
     "output_type": "stream",
     "text": [
      "Class label distribution: [40 49 35]\n"
     ]
    }
   ],
   "source": [
    "print('Class label distribution: %s' % np.bincount(y_train)[1:])"
   ]
  },
  {
   "cell_type": "markdown",
   "metadata": {},
   "source": [
    "上記のようにクラスラベルが一様に分布していないので, スケーリングされたクラス内変動行列 (i.e., 共分散行列) を計算する."
   ]
  },
  {
   "cell_type": "code",
   "execution_count": 22,
   "metadata": {
    "collapsed": false
   },
   "outputs": [
    {
     "name": "stdout",
     "output_type": "stream",
     "text": [
      "Scaled within-class scatter matrix: 13x13\n"
     ]
    }
   ],
   "source": [
    "d = 13  # number of features\n",
    "S_W = np.zeros((d, d))\n",
    "for label, mv in zip(range(1, 4), mean_vecs):\n",
    "    class_scatter = np.cov(X_train_std[y_train == label].T)\n",
    "    S_W += class_scatter\n",
    "print('Scaled within-class scatter matrix: %sx%s' % (S_W.shape[0], S_W.shape[1]))"
   ]
  },
  {
   "cell_type": "markdown",
   "metadata": {},
   "source": [
    "- **クラス間変動行列** (between-class scatter matrix) $S_B$: \n",
    "    - $m$ をすべてのクラスのサンプルを対象として計算される全体平均とすると, クラス間変動行列 $S_B$ は次のように定義される:\n",
    "        $$\n",
    "            S_B \\triangleq \\sum_{i=1}^{c} N_i (m_i - m)(m_i - m)^{\\top}.\n",
    "        $$\n",
    "    - ランクが1以下の $c$ 個の行列を合計したものになっている.\n",
    "        - このため, $c$ 個のクラスラベルが存在する場合は, LDAでの線形判別の個数は最大で $c-1$ 個."
   ]
  },
  {
   "cell_type": "code",
   "execution_count": 23,
   "metadata": {
    "collapsed": false
   },
   "outputs": [
    {
     "name": "stdout",
     "output_type": "stream",
     "text": [
      "Between-class scatter matrix: 13x13\n"
     ]
    }
   ],
   "source": [
    "mean_overall = np.mean(X_train_std, axis=0)\n",
    "d = 13  # number of features\n",
    "S_B = np.zeros((d, d))\n",
    "for i, mean_vec in enumerate(mean_vecs):\n",
    "    n = X_train[y_train == i + 1, :].shape[0]\n",
    "    mean_vec = mean_vec.reshape(d, 1)  # make column vector\n",
    "    mean_overall = mean_overall.reshape(d, 1)  # make column vector\n",
    "    S_B += n * (mean_vec - mean_overall).dot((mean_vec - mean_overall).T)\n",
    "\n",
    "print('Between-class scatter matrix: %sx%s' % (S_B.shape[0], S_B.shape[1]))"
   ]
  },
  {
   "cell_type": "markdown",
   "metadata": {},
   "source": [
    "### 新しい特徴部分空間の線形判別の選択\n",
    "\n",
    "行列 $S_W^{-1} S_B$ の固有値問題を解く."
   ]
  },
  {
   "cell_type": "code",
   "execution_count": 24,
   "metadata": {
    "collapsed": true
   },
   "outputs": [],
   "source": [
    "eigen_vals, eigen_vecs = np.linalg.eig(np.linalg.inv(S_W).dot(S_B))"
   ]
  },
  {
   "cell_type": "markdown",
   "metadata": {},
   "source": [
    "固有対を計算した後は, 固有値を大きいものから降順にソートする."
   ]
  },
  {
   "cell_type": "code",
   "execution_count": 25,
   "metadata": {
    "collapsed": false
   },
   "outputs": [
    {
     "name": "stdout",
     "output_type": "stream",
     "text": [
      "Eigenvalues in decreasing order:\n",
      "\n",
      "452.721581245\n",
      "156.43636122\n",
      "1.05646703435e-13\n",
      "3.99641853702e-14\n",
      "3.40923565291e-14\n",
      "2.84217094304e-14\n",
      "1.4793035293e-14\n",
      "1.4793035293e-14\n",
      "1.3494134504e-14\n",
      "1.3494134504e-14\n",
      "6.49105985585e-15\n",
      "6.49105985585e-15\n",
      "2.65581215704e-15\n"
     ]
    }
   ],
   "source": [
    "# Make a list of (eigenvalue, eigenvector) tuples\n",
    "eigen_pairs = [(np.abs(eigen_vals[i]), eigen_vecs[:, i])\n",
    "               for i in range(len(eigen_vals))]\n",
    "\n",
    "# Sort the (eigenvalue, eigenvector) tuples from high to low\n",
    "eigen_pairs = sorted(eigen_pairs, key=lambda k: k[0], reverse=True)\n",
    "\n",
    "# Visually confirm that the list is correctly sorted by decreasing eigenvalues\n",
    "\n",
    "print('Eigenvalues in decreasing order:\\n')\n",
    "for eigen_val in eigen_pairs:\n",
    "    print(eigen_val[0])"
   ]
  },
  {
   "cell_type": "markdown",
   "metadata": {},
   "source": [
    "3～13番目の固有値は, ほとんど0である.\n",
    "\n",
    "共線性 (collinearity) が完全, i.e., 整列後のサンプル点がすべて直線状にある珍しいケースでは, 共分散行列のランクが1になり, 非零固有値をもつ固有ベクトルは一つだけになる."
   ]
  },
  {
   "cell_type": "markdown",
   "metadata": {},
   "source": [
    "線形判別 (固有ベクトル) によってクラスの判別情報がどの程度捕捉されるかをみるため, 固有値を減らしながら線形判別をプロットする.\n",
    "ここでは, クラスの判別情報を「判別性」 (discriminability) と呼ぶことにする."
   ]
  },
  {
   "cell_type": "code",
   "execution_count": 26,
   "metadata": {
    "collapsed": false
   },
   "outputs": [
    {
     "data": {
      "image/png": "[encoded data removed]",
      "text/plain": [
       "<matplotlib.figure.Figure at 0x19d8ee33668>"
      ]
     },
     "metadata": {},
     "output_type": "display_data"
    }
   ],
   "source": [
    "tot = sum(eigen_vals.real)\n",
    "discr = [(i / tot) for i in sorted(eigen_vals.real, reverse=True)]\n",
    "cum_discr = np.cumsum(discr)\n",
    "\n",
    "plt.bar(range(1, 14), discr, alpha=0.5, align='center',\n",
    "        label='individual \"discriminability\"')\n",
    "plt.step(range(1, 14), cum_discr, where='mid',\n",
    "         label='cumulative \"discriminability\"')\n",
    "plt.ylabel('\"discriminability\" ratio')\n",
    "plt.xlabel('Linear Discriminants')\n",
    "plt.ylim([-0.1, 1.1])\n",
    "plt.legend(loc='best')\n",
    "plt.tight_layout()\n",
    "# plt.savefig('./figures/lda1.png', dpi=300)\n",
    "plt.show()"
   ]
  },
  {
   "cell_type": "markdown",
   "metadata": {},
   "source": [
    "最初の二つの線形判別はWineトレーニングデータセット内の有益な情報をほぼ100%捕捉している."
   ]
  },
  {
   "cell_type": "markdown",
   "metadata": {},
   "source": [
    "最も判別力のある二つの固有ベクトルを列方向に並べて, 変換行列 $W$ を作ってみる."
   ]
  },
  {
   "cell_type": "code",
   "execution_count": 27,
   "metadata": {
    "collapsed": false
   },
   "outputs": [
    {
     "name": "stdout",
     "output_type": "stream",
     "text": [
      "Matrix W:\n",
      " [[-0.0662 -0.3797]\n",
      " [ 0.0386 -0.2206]\n",
      " [-0.0217 -0.3816]\n",
      " [ 0.184   0.3018]\n",
      " [-0.0034  0.0141]\n",
      " [ 0.2326  0.0234]\n",
      " [-0.7747  0.1869]\n",
      " [-0.0811  0.0696]\n",
      " [ 0.0875  0.1796]\n",
      " [ 0.185  -0.284 ]\n",
      " [-0.066   0.2349]\n",
      " [-0.3805  0.073 ]\n",
      " [-0.3285 -0.5971]]\n"
     ]
    }
   ],
   "source": [
    "w = np.hstack((eigen_pairs[0][1][:, np.newaxis].real,\n",
    "              eigen_pairs[1][1][:, np.newaxis].real))\n",
    "print('Matrix W:\\n', w)"
   ]
  },
  {
   "cell_type": "markdown",
   "metadata": {},
   "source": [
    "$W$ に行列 $X$ をかけて, トレーニングデータセットを変換し, $X'$ を得る:\n",
    "$$\n",
    "    X' = XW.\n",
    "$$"
   ]
  },
  {
   "cell_type": "code",
   "execution_count": 28,
   "metadata": {
    "collapsed": false
   },
   "outputs": [
    {
     "data": {
      "image/png": "[encoded data removed]",
      "text/plain": [
       "<matplotlib.figure.Figure at 0x19d8e9f3a58>"
      ]
     },
     "metadata": {},
     "output_type": "display_data"
    }
   ],
   "source": [
    "X_train_lda = X_train_std.dot(w)\n",
    "colors = ['r', 'b', 'g']\n",
    "markers = ['s', 'x', 'o']\n",
    "\n",
    "for l, c, m in zip(np.unique(y_train), colors, markers):\n",
    "    plt.scatter(X_train_lda[y_train == l, 0] * (-1),\n",
    "                X_train_lda[y_train == l, 1] * (-1),\n",
    "                c=c, label=l, marker=m)\n",
    "\n",
    "plt.xlabel('LD 1')\n",
    "plt.ylabel('LD 2')\n",
    "plt.legend(loc='lower right')\n",
    "plt.tight_layout()\n",
    "# plt.savefig('./figures/lda2.png', dpi=300)\n",
    "plt.show()"
   ]
  },
  {
   "cell_type": "markdown",
   "metadata": {},
   "source": [
    "いい感じに線形分離可能になっている."
   ]
  },
  {
   "cell_type": "markdown",
   "metadata": {},
   "source": [
    "でもやっぱscikit-learn使えばいいじゃん:"
   ]
  },
  {
   "cell_type": "code",
   "execution_count": 29,
   "metadata": {
    "collapsed": true
   },
   "outputs": [],
   "source": [
    "if Version(sklearn_version) < '0.18':\n",
    "    from sklearn.lda import LDA\n",
    "else:\n",
    "    from sklearn.discriminant_analysis import LinearDiscriminantAnalysis as LDA\n",
    "\n",
    "lda = LDA(n_components=2)\n",
    "X_train_lda = lda.fit_transform(X_train_std, y_train)"
   ]
  },
  {
   "cell_type": "markdown",
   "metadata": {},
   "source": [
    "ロジスティック回帰の分類器が, LDAによって変換された低次元のトレーニングデータをどのように処理するかを見てみる."
   ]
  },
  {
   "cell_type": "code",
   "execution_count": 30,
   "metadata": {
    "collapsed": false
   },
   "outputs": [
    {
     "data": {
      "image/png": "[encoded data removed]",
      "text/plain": [
       "<matplotlib.figure.Figure at 0x19d8ea34d30>"
      ]
     },
     "metadata": {},
     "output_type": "display_data"
    }
   ],
   "source": [
    "from sklearn.linear_model import LogisticRegression\n",
    "lr = LogisticRegression()\n",
    "lr = lr.fit(X_train_lda, y_train)\n",
    "\n",
    "plot_decision_regions(X_train_lda, y_train, classifier=lr)\n",
    "plt.xlabel('LD 1')\n",
    "plt.ylabel('LD 2')\n",
    "plt.legend(loc='lower left')\n",
    "plt.tight_layout()\n",
    "# plt.savefig('./images/lda3.png', dpi=300)\n",
    "plt.show()"
   ]
  },
  {
   "cell_type": "markdown",
   "metadata": {},
   "source": [
    "一つだけミスっているが, 正則化の強さを下げれば決定境界をずらせるので, トレーニングデータセットのサンプルを完璧に分類できるようになりそう.\n",
    "テストデータセットではどうか?"
   ]
  },
  {
   "cell_type": "code",
   "execution_count": 31,
   "metadata": {
    "collapsed": false
   },
   "outputs": [
    {
     "data": {
      "image/png": "[encoded data removed]",
      "text/plain": [
       "<matplotlib.figure.Figure at 0x19d8c442a90>"
      ]
     },
     "metadata": {},
     "output_type": "display_data"
    }
   ],
   "source": [
    "X_test_lda = lda.transform(X_test_std)\n",
    "\n",
    "plot_decision_regions(X_test_lda, y_test, classifier=lr)\n",
    "plt.xlabel('LD 1')\n",
    "plt.ylabel('LD 2')\n",
    "plt.legend(loc='lower left')\n",
    "plt.tight_layout()\n",
    "# plt.savefig('./images/lda4.png', dpi=300)\n",
    "plt.show()"
   ]
  },
  {
   "cell_type": "markdown",
   "metadata": {},
   "source": [
    "完璧じゃん."
   ]
  },
  {
   "cell_type": "markdown",
   "metadata": {},
   "source": [
    "## カーネル主成分分析を使った非線形写像\n",
    "\n",
    "ノイズを除けば線形分離可能な問題を扱ってきた.\n",
    "本質的に線形分離不可能な非線形問題において, 次元削減を行うにはどうすればよいか?<br />\n",
    "→ データを変換し, 線形分類器に適した新しい低次元部分空間に射影する.\n",
    "\n",
    "カーネルPCAでやってみる.\n",
    "\n",
    "### カーネル関数とカーネルトリック\n",
    "\n",
    "非線形問題を解くために, サンプル $x \\in \\mathbb{R}^d$ を次元がより高い $k$ 次元の新しい特徴空間 $\\mathbb{R}^k$ へ非線形写像\n",
    "$$\n",
    "    \\phi: \\mathbb{R}^d \\to \\mathbb{R}^k ~~ (k \\gg d).\n",
    "$$\n",
    "で写像し, $\\phi(x) \\in \\mathbb{R}^d$ を得る.\n",
    "\n",
    "- $\\phi$ は, 元の特徴量の非線形的な組み合わせを作成する.\n",
    "\n",
    "新しい特徴空間 $\\mathbb{R}^k$ で標準のPCAを行い, より低次元の空間へデータを射影し, サンプルを線形分離できるようにする.\n",
    "\n",
    "- **カーネルトリック**: 高次元空間に写像することなく, 元の特徴空間において二つの高次元の特徴ベクトルの類似度を計算することで, 計算コストをおさえる.\n",
    "\n",
    "標準化されたサンプル $x^{(i)} \\in \\mathbb{R}^d ~ (i = 1, \\dots, n)$ について, 共分散行列 $\\tilde{\\Sigma}$ は次の通りであった:\n",
    "$$\n",
    "    \\tilde{\\Sigma} = \\frac{1}{n} \\sum_{i=1}^{n} x^{(i)}(x^{(i)})^{\\top}.\n",
    "$$\n",
    "よって, このサンプルを新しい特徴空間 $\\mathbb{R}^k$ へ写像してできるサンプルたちの共分散行列は\n",
    "$$\n",
    "    \\Sigma = \\frac{1}{n} \\sum_{i=1}^{n} x^{(i)}(x^{(i)})^{\\top}  \\in M_{k}(\\mathbb{R}).\n",
    "$$\n",
    "と書ける.\n",
    "\n",
    "$$\n",
    "    X \\triangleq \\begin{pmatrix} (x^{(1)})^{\\top} \\\\ \\vdots \\\\ (x^{(n)})^{\\top} \\end{pmatrix} \\in M_{n, d}(\\mathbb{R})\n",
    "$$\n",
    "に対して, \n",
    "$$\n",
    "    \\phi(X) \\triangleq \\begin{pmatrix} \\phi(x^{(1)})^{\\top} \\\\ \\vdots \\\\ \\phi(x^{(n)})^{\\top} \\end{pmatrix} \\in M_{n, k}(\\mathbb{R})\n",
    "$$\n",
    "とする.\n",
    "$\\phi(X)$ を用いると, $\\Sigma$ は\n",
    "$$\n",
    "   \\Sigma = \\frac{1}{n} \\phi(X)^{\\top} \\phi(X)\n",
    "$$\n",
    "と書ける.\n",
    "\n",
    "$\\Sigma$ から固有ベクトル(主成分) $\\nu \\in \\mathbb{R}^k$ を取り出すためには, 次の固有方程式を解く:\n",
    "$$\n",
    "    \\Sigma \\nu = \\lambda \\nu.\n",
    "$$\n",
    "これは, \n",
    "$$\n",
    "    \\frac{1}{n} \\phi(X)^{\\top} \\phi(X) \\nu = \\lambda \\nu\n",
    "$$\n",
    "であるから, \n",
    "$$\n",
    "    \\nu = \\frac{1}{n\\lambda} \\phi(X)^{\\top} \\phi(X) \\nu\n",
    "$$\n",
    "と書ける.\n",
    "ここで, \n",
    "$$\n",
    "    a \\triangleq \\phi(X) \\nu\n",
    "$$\n",
    "とおけば, \n",
    "$$\n",
    "    \\nu = \\frac{1}{n\\lambda} \\phi(X)^{\\top} a.\n",
    "$$\n",
    "両辺左から $\\phi(X)$ をかけて, \n",
    "$$\n",
    "    a = \\frac{1}{n\\lambda} \\phi(X) \\phi(X)^{\\top} a,\n",
    "$$\n",
    "i.e., \n",
    "$$\n",
    "    \\frac{1}{n} \\phi(X) \\phi(X)^{\\top} a = \\lambda a.\n",
    "$$\n",
    "ここで,\n",
    "$$\n",
    "    K \\triangleq \\phi(X) \\phi(X)^{\\top}\n",
    "$$\n",
    "とおけば, \n",
    "$$\n",
    "    \\frac{1}{n} K a = \\lambda a,\n",
    "$$\n",
    "i.e., $a$ は $K$ の固有ベクトルである.\n",
    "\n",
    "このようにして定めた $K$ を**カーネル行列** (kernel matrix) といい, ベクトル間の内積, i.e., 類似度を表すものである.\n",
    "カーネルトリックを利用することで, サンプル $x$ の関数 $\\phi$ 同士の内積の計算をカーネル関数\n",
    "$$\n",
    "    k(x^{(i)}, x^{(j)}) = \\phi(x^{(i)})^{\\top} \\phi(x^{(j)})\n",
    "$$\n",
    "で回避する(i.e., $K = (k(x^{(i)}, x^{(j)}))_{i,j}$ とする).\n",
    "\n",
    "よく利用されるカーネル:\n",
    "\n",
    "- 多項式カーネル: $k(x^{(i)}, x^{(j)}) = \\left( (x^{(i)})^{\\top} x^{(j)} + \\theta \\right)^p$.\n",
    "- 双曲線正接カーネル: $k(x^{(i)}, x^{(j)}) = \\tanh \\left(  \\right)$.\n",
    "- Gaussカーネル: $k(x^{(i)}, x^{(j)}) = \\exp \\left( - \\gamma \\| x^{(i)} - x^{(j)} \\|^2 \\right)$\n",
    "\n",
    "以上をまとめると, 次の通り:\n",
    "\n",
    "1. カーネル行列 $K$ の計算.\n",
    "    $$\n",
    "        K = \\begin{pmatrix}\n",
    "        k(x^{(1)}, x^{(1)}) & \\cdots & k(x^{(1)}, x^{(n)}) \\\\\n",
    "        \\vdots & \\ddots & \\vdots \\\\\n",
    "        k(x^{(n)}, x^{(1)}) & \\cdots & k(x^{(n)}, x^{(n)})\n",
    "        \\end{pmatrix}.\n",
    "    $$\n",
    "2. カーネル行列 $K$ の中心化:\n",
    "    $$\n",
    "        \\boldsymbol{1}_n \\triangleq \\frac{1}{n}\n",
    "        \\begin{pmatrix}\n",
    "        1 & \\cdots & 1 \\\\\n",
    "        \\vdots & \\ddots & \\vdots \\\\\n",
    "        1 & \\cdots & 1\n",
    "        \\end{pmatrix}\n",
    "    $$\n",
    "    として, \n",
    "    $$\n",
    "        K := K - \\boldsymbol{1}_n K - K \\boldsymbol{1}_n + \\boldsymbol{1}_n K \\boldsymbol{1}_n\n",
    "    $$\n",
    "    とする.\n",
    "    - 中心化するのは, カーネルトリックでは新しい特徴空間を明示的に計算していないため, 新しい特徴空間でも中心が0であることを保証できないから.\n",
    "3. 対応する固有値に基づき, 中心化されたカーネル行列 $K$ の $\\ell$ 個の固有ベクトルを集める.\n",
    "    - 固有値は大きい順にランク付けされている.\n",
    "    - 固有ベクトル $a$ は主成分軸 $\\nu$ でなく, それらの軸に射影されるサンプル $\\phi(X)^{\\top} \\nu$ である."
   ]
  },
  {
   "cell_type": "markdown",
   "metadata": {},
   "source": [
    "### カーネルPCAの実装\n",
    "\n",
    "実装してみる."
   ]
  },
  {
   "cell_type": "code",
   "execution_count": 32,
   "metadata": {
    "collapsed": true
   },
   "outputs": [],
   "source": [
    "from scipy.spatial.distance import pdist, squareform\n",
    "from scipy import exp\n",
    "from numpy.linalg import eigh\n",
    "import numpy as np\n",
    "\n",
    "def rbf_kernel_pca(X, gamma, n_components):\n",
    "    \"\"\"\n",
    "    RBF kernel PCA implementation.\n",
    "\n",
    "    Parameters\n",
    "    ------------\n",
    "    X: {NumPy ndarray}, shape = [n_samples, n_features]\n",
    "        \n",
    "    gamma: float\n",
    "      Tuning parameter of the RBF kernel\n",
    "        \n",
    "    n_components: int\n",
    "      Number of principal components to return\n",
    "\n",
    "    Returns\n",
    "    ------------\n",
    "     X_pc: {NumPy ndarray}, shape = [n_samples, k_features]\n",
    "       Projected dataset   \n",
    "\n",
    "    \"\"\"\n",
    "    # Calculate pairwise squared Euclidean distances\n",
    "    # in the MxN dimensional dataset.\n",
    "    sq_dists = pdist(X, 'sqeuclidean')\n",
    "\n",
    "    # Convert pairwise distances into a square matrix.\n",
    "    mat_sq_dists = squareform(sq_dists)\n",
    "\n",
    "    # Compute the symmetric kernel matrix.\n",
    "    K = exp(-gamma * mat_sq_dists)\n",
    "\n",
    "    # Center the kernel matrix.\n",
    "    N = K.shape[0]\n",
    "    one_n = np.ones((N, N)) / N\n",
    "    K = K - one_n.dot(K) - K.dot(one_n) + one_n.dot(K).dot(one_n)\n",
    "\n",
    "    # Obtaining eigenpairs from the centered kernel matrix\n",
    "    # numpy.linalg.eigh returns them in sorted order\n",
    "    eigvals, eigvecs = eigh(K)\n",
    "\n",
    "    # Collect the top k eigenvectors (projected samples)\n",
    "    X_pc = np.column_stack((eigvecs[:, -i] for i in range(1, n_components + 1)))\n",
    "\n",
    "    return X_pc"
   ]
  },
  {
   "cell_type": "markdown",
   "metadata": {},
   "source": [
    "パラメータ $\\gamma$ は, 適切な値を見つける必要がある.\n",
    "グリッドサーチなどを使う."
   ]
  },
  {
   "cell_type": "markdown",
   "metadata": {},
   "source": [
    "非線形サンプルデータの分離をしてみる."
   ]
  },
  {
   "cell_type": "code",
   "execution_count": 33,
   "metadata": {
    "collapsed": false
   },
   "outputs": [
    {
     "data": {
      "image/png": "[encoded data removed]",
      "text/plain": [
       "<matplotlib.figure.Figure at 0x19d8ea45588>"
      ]
     },
     "metadata": {},
     "output_type": "display_data"
    }
   ],
   "source": [
    "import matplotlib.pyplot as plt\n",
    "from sklearn.datasets import make_moons\n",
    "\n",
    "X, y = make_moons(n_samples=100, random_state=123)\n",
    "\n",
    "plt.scatter(X[y == 0, 0], X[y == 0, 1], color='red', marker='^', alpha=0.5)\n",
    "plt.scatter(X[y == 1, 0], X[y == 1, 1], color='blue', marker='o', alpha=0.5)\n",
    "\n",
    "plt.tight_layout()\n",
    "# plt.savefig('./figures/half_moon_1.png', dpi=300)\n",
    "plt.show()"
   ]
  },
  {
   "cell_type": "markdown",
   "metadata": {},
   "source": [
    "こんなやつ."
   ]
  },
  {
   "cell_type": "markdown",
   "metadata": {},
   "source": [
    "どう見ても線形分離不可能だけど, 一応PCAをかけてみる."
   ]
  },
  {
   "cell_type": "code",
   "execution_count": 34,
   "metadata": {
    "collapsed": false
   },
   "outputs": [
    {
     "data": {
      "image/png": "[encoded data removed]",
      "text/plain": [
       "<matplotlib.figure.Figure at 0x19d8c99c080>"
      ]
     },
     "metadata": {},
     "output_type": "display_data"
    }
   ],
   "source": [
    "from sklearn.decomposition import PCA\n",
    "from sklearn.preprocessing import StandardScaler\n",
    "\n",
    "scikit_pca = PCA(n_components=2)\n",
    "X_spca = scikit_pca.fit_transform(X)\n",
    "\n",
    "fig, ax = plt.subplots(nrows=1, ncols=2, figsize=(7, 3))\n",
    "\n",
    "ax[0].scatter(X_spca[y == 0, 0], X_spca[y == 0, 1],\n",
    "              color='red', marker='^', alpha=0.5)\n",
    "ax[0].scatter(X_spca[y == 1, 0], X_spca[y == 1, 1],\n",
    "              color='blue', marker='o', alpha=0.5)\n",
    "\n",
    "ax[1].scatter(X_spca[y == 0, 0], np.zeros((50, 1)) + 0.02,\n",
    "              color='red', marker='^', alpha=0.5)\n",
    "ax[1].scatter(X_spca[y == 1, 0], np.zeros((50, 1)) - 0.02,\n",
    "              color='blue', marker='o', alpha=0.5)\n",
    "\n",
    "ax[0].set_xlabel('PC1')\n",
    "ax[0].set_ylabel('PC2')\n",
    "ax[1].set_ylim([-1, 1])\n",
    "ax[1].set_yticks([])\n",
    "ax[1].set_xlabel('PC1')\n",
    "\n",
    "plt.tight_layout()\n",
    "# plt.savefig('./figures/half_moon_2.png', dpi=300)\n",
    "plt.show()"
   ]
  },
  {
   "cell_type": "markdown",
   "metadata": {},
   "source": [
    "無事死亡."
   ]
  },
  {
   "cell_type": "markdown",
   "metadata": {},
   "source": [
    "カーネルPCAを試してみる."
   ]
  },
  {
   "cell_type": "code",
   "execution_count": 35,
   "metadata": {
    "collapsed": false
   },
   "outputs": [
    {
     "data": {
      "image/png": "[encoded data removed]",
      "text/plain": [
       "<matplotlib.figure.Figure at 0x19d8ea824a8>"
      ]
     },
     "metadata": {},
     "output_type": "display_data"
    }
   ],
   "source": [
    "from matplotlib.ticker import FormatStrFormatter\n",
    "\n",
    "X_kpca = rbf_kernel_pca(X, gamma=15, n_components=2)\n",
    "\n",
    "fig, ax = plt.subplots(nrows=1,ncols=2, figsize=(7,3))\n",
    "ax[0].scatter(X_kpca[y==0, 0], X_kpca[y==0, 1], \n",
    "            color='red', marker='^', alpha=0.5)\n",
    "ax[0].scatter(X_kpca[y==1, 0], X_kpca[y==1, 1],\n",
    "            color='blue', marker='o', alpha=0.5)\n",
    "\n",
    "ax[1].scatter(X_kpca[y==0, 0], np.zeros((50,1))+0.02, \n",
    "            color='red', marker='^', alpha=0.5)\n",
    "ax[1].scatter(X_kpca[y==1, 0], np.zeros((50,1))-0.02,\n",
    "            color='blue', marker='o', alpha=0.5)\n",
    "\n",
    "ax[0].set_xlabel('PC1')\n",
    "ax[0].set_ylabel('PC2')\n",
    "ax[1].set_ylim([-1, 1])\n",
    "ax[1].set_yticks([])\n",
    "ax[1].set_xlabel('PC1')\n",
    "ax[0].xaxis.set_major_formatter(FormatStrFormatter('%0.1f'))\n",
    "ax[1].xaxis.set_major_formatter(FormatStrFormatter('%0.1f'))\n",
    "\n",
    "plt.tight_layout()\n",
    "# plt.savefig('./figures/half_moon_3.png', dpi=300)\n",
    "plt.show()"
   ]
  },
  {
   "cell_type": "markdown",
   "metadata": {},
   "source": [
    "線形分離できそうでいい感じ."
   ]
  },
  {
   "cell_type": "markdown",
   "metadata": {},
   "source": [
    "別の例でもやってみる."
   ]
  },
  {
   "cell_type": "code",
   "execution_count": 36,
   "metadata": {
    "collapsed": false
   },
   "outputs": [
    {
     "data": {
      "image/png": "[encoded data removed]",
      "text/plain": [
       "<matplotlib.figure.Figure at 0x19d8eae5da0>"
      ]
     },
     "metadata": {},
     "output_type": "display_data"
    }
   ],
   "source": [
    "from sklearn.datasets import make_circles\n",
    "\n",
    "X, y = make_circles(n_samples=1000, random_state=123, noise=0.1, factor=0.2)\n",
    "\n",
    "plt.scatter(X[y == 0, 0], X[y == 0, 1], color='red', marker='^', alpha=0.5)\n",
    "plt.scatter(X[y == 1, 0], X[y == 1, 1], color='blue', marker='o', alpha=0.5)\n",
    "\n",
    "plt.tight_layout()\n",
    "# plt.savefig('./figures/circles_1.png', dpi=300)\n",
    "plt.show()"
   ]
  },
  {
   "cell_type": "markdown",
   "metadata": {},
   "source": [
    "こんなの."
   ]
  },
  {
   "cell_type": "markdown",
   "metadata": {},
   "source": [
    "Q. ただのPCAではやっぱり無事死亡するのか?"
   ]
  },
  {
   "cell_type": "code",
   "execution_count": 37,
   "metadata": {
    "collapsed": false
   },
   "outputs": [
    {
     "data": {
      "image/png": "[encoded data removed]",
      "text/plain": [
       "<matplotlib.figure.Figure at 0x19d8eaf9940>"
      ]
     },
     "metadata": {},
     "output_type": "display_data"
    }
   ],
   "source": [
    "scikit_pca = PCA(n_components=2)\n",
    "X_spca = scikit_pca.fit_transform(X)\n",
    "\n",
    "fig, ax = plt.subplots(nrows=1, ncols=2, figsize=(7, 3))\n",
    "\n",
    "ax[0].scatter(X_spca[y == 0, 0], X_spca[y == 0, 1],\n",
    "              color='red', marker='^', alpha=0.5)\n",
    "ax[0].scatter(X_spca[y == 1, 0], X_spca[y == 1, 1],\n",
    "              color='blue', marker='o', alpha=0.5)\n",
    "\n",
    "ax[1].scatter(X_spca[y == 0, 0], np.zeros((500, 1)) + 0.02,\n",
    "              color='red', marker='^', alpha=0.5)\n",
    "ax[1].scatter(X_spca[y == 1, 0], np.zeros((500, 1)) - 0.02,\n",
    "              color='blue', marker='o', alpha=0.5)\n",
    "\n",
    "ax[0].set_xlabel('PC1')\n",
    "ax[0].set_ylabel('PC2')\n",
    "ax[1].set_ylim([-1, 1])\n",
    "ax[1].set_yticks([])\n",
    "ax[1].set_xlabel('PC1')\n",
    "\n",
    "plt.tight_layout()\n",
    "# plt.savefig('./figures/circles_2.png', dpi=300)\n",
    "plt.show()"
   ]
  },
  {
   "cell_type": "markdown",
   "metadata": {},
   "source": [
    "A. する (それはそう)."
   ]
  },
  {
   "cell_type": "markdown",
   "metadata": {},
   "source": [
    "では, カーネルPCAでやってみる."
   ]
  },
  {
   "cell_type": "code",
   "execution_count": 38,
   "metadata": {
    "collapsed": false
   },
   "outputs": [
    {
     "data": {
      "image/png": "[encoded data removed]",
      "text/plain": [
       "<matplotlib.figure.Figure at 0x19d8c3493c8>"
      ]
     },
     "metadata": {},
     "output_type": "display_data"
    }
   ],
   "source": [
    "X_kpca = rbf_kernel_pca(X, gamma=15, n_components=2)\n",
    "\n",
    "fig, ax = plt.subplots(nrows=1, ncols=2, figsize=(7, 3))\n",
    "ax[0].scatter(X_kpca[y == 0, 0], X_kpca[y == 0, 1],\n",
    "              color='red', marker='^', alpha=0.5)\n",
    "ax[0].scatter(X_kpca[y == 1, 0], X_kpca[y == 1, 1],\n",
    "              color='blue', marker='o', alpha=0.5)\n",
    "\n",
    "ax[1].scatter(X_kpca[y == 0, 0], np.zeros((500, 1)) + 0.02,\n",
    "              color='red', marker='^', alpha=0.5)\n",
    "ax[1].scatter(X_kpca[y == 1, 0], np.zeros((500, 1)) - 0.02,\n",
    "              color='blue', marker='o', alpha=0.5)\n",
    "\n",
    "ax[0].set_xlabel('PC1')\n",
    "ax[0].set_ylabel('PC2')\n",
    "ax[1].set_ylim([-1, 1])\n",
    "ax[1].set_yticks([])\n",
    "ax[1].set_xlabel('PC1')\n",
    "\n",
    "plt.tight_layout()\n",
    "# plt.savefig('./figures/circles_3.png', dpi=300)\n",
    "plt.show()"
   ]
  },
  {
   "cell_type": "markdown",
   "metadata": {},
   "source": [
    "大変よろしい."
   ]
  },
  {
   "cell_type": "markdown",
   "metadata": {},
   "source": [
    "### 新しいデータ点を射影する\n",
    "\n",
    "変換したいデータセットが一つのみの場合は, 上のようにすればよかった.\n",
    "実際の応用では, トレーニングデータセットとテストデータセットのように, 変換したいデータセットが二つ以上存在するかもしれない.<br />\n",
    "→ トレーニングデータセットに含まれていなかったデータ点を射影したい.\n",
    "\n",
    "- 普通のPCA: 変換行列と入力サンプル間の内積が, 射影したサンプルを与える.\n",
    "    - 射影行列の列ベクトルは共分散行列の $k$ 個の固有ベクトルであった.\n",
    "- カーネルPCA: 新しいサンプル $x'$ について, $\\phi(x')$ と共分散行列の固有ベクトル $\\nu$ の内積 $\\phi(x')^{\\top} \\nu$ が $\\nu$ 主成分軸に射影したサンプルを与える.\n",
    "    - カーネルトリックを用いれば, $\\phi(x')^{\\top} \\nu$ を明示的に計算しなくて済む.\n",
    "        - ただし, 新しいサンプルを射影するたびに, 元のトレーニングデータセットを再利用して, 新しいサンプル $x'$ とトレーニングデータセット内のサンプル $x$ との類似度 (i.e., カーネル関数) を計算しなければならない:<br />\n",
    "\n",
    "        ベクトル $a$ は, $K = \\phi(X)\\phi(X)^{\\top}$ の固有値とする, i.e., $Ka = \\lambda a$.\n",
    "        先ほどと同様に $\\nu = \\phi(X)^{\\top} a$ とすれば, $n \\Sigma \\nu = \\lambda \\nu$ であるから, $\\nu$ は主成分.\n",
    "        よって, 内積 $\\phi(x')^{\\top} \\nu$ は\n",
    "        $$\n",
    "            \\phi(x')^{\\top} \\nu = \\phi(x')^{\\top} \\phi(X)^{\\top} a.\n",
    "        $$\n",
    "        ここで, \n",
    "        $$\n",
    "            k(x') \\triangleq \\begin{pmatrix} k(x', x^{(1)}) \\\\ \\vdots \\\\ k(x', x^{(n)}) \\end{pmatrix} = \\begin{pmatrix} \\phi(x')^{\\top}\\phi(x^{(1)}) \\\\ \\vdots \\\\ \\phi(x')^{\\top}\\phi(x^{(n)}) \\end{pmatrix}\n",
    "        $$\n",
    "        とおけば, \n",
    "        $$\n",
    "            \\phi(x')^{\\top} \\nu = k(x')^{\\top} a.\n",
    "        $$\n",
    "\n",
    "新しいサンプルとトレーニングデータセット内のサンプルとの間で類似度を計算した後は, 固有ベクトル $a$ をその固有値 $\\lambda$ で正規化する必要がある. (←なぜか?)\n",
    "\n",
    "先ほどの関数を書き換えて, カーネル行列の固有値を返すようにする."
   ]
  },
  {
   "cell_type": "code",
   "execution_count": 39,
   "metadata": {
    "collapsed": true
   },
   "outputs": [],
   "source": [
    "from scipy.spatial.distance import pdist, squareform\n",
    "from scipy import exp\n",
    "from scipy.linalg import eigh\n",
    "import numpy as np\n",
    "\n",
    "def rbf_kernel_pca(X, gamma, n_components):\n",
    "    \"\"\"\n",
    "    RBF kernel PCA implementation.\n",
    "\n",
    "    Parameters\n",
    "    ------------\n",
    "    X: {NumPy ndarray}, shape = [n_samples, n_features]\n",
    "        \n",
    "    gamma: float\n",
    "      Tuning parameter of the RBF kernel\n",
    "        \n",
    "    n_components: int\n",
    "      Number of principal components to return\n",
    "\n",
    "    Returns\n",
    "    ------------\n",
    "     X_pc: {NumPy ndarray}, shape = [n_samples, k_features]\n",
    "       Projected dataset   \n",
    "     \n",
    "     lambdas: list\n",
    "       Eigenvalues\n",
    "\n",
    "    \"\"\"\n",
    "    # Calculate pairwise squared Euclidean distances\n",
    "    # in the MxN dimensional dataset.\n",
    "    sq_dists = pdist(X, 'sqeuclidean')\n",
    "\n",
    "    # Convert pairwise distances into a square matrix.\n",
    "    mat_sq_dists = squareform(sq_dists)\n",
    "\n",
    "    # Compute the symmetric kernel matrix.\n",
    "    K = exp(-gamma * mat_sq_dists)\n",
    "\n",
    "    # Center the kernel matrix.\n",
    "    N = K.shape[0]\n",
    "    one_n = np.ones((N, N)) / N\n",
    "    K = K - one_n.dot(K) - K.dot(one_n) + one_n.dot(K).dot(one_n)\n",
    "\n",
    "    # Obtaining eigenpairs from the centered kernel matrix\n",
    "    # numpy.eigh returns them in sorted order\n",
    "    eigvals, eigvecs = eigh(K)\n",
    "\n",
    "    # Collect the top k eigenvectors (projected samples)\n",
    "    alphas = np.column_stack((eigvecs[:, -i]\n",
    "                              for i in range(1, n_components + 1)))\n",
    "\n",
    "    # Collect the corresponding eigenvalues\n",
    "    lambdas = [eigvals[-i] for i in range(1, n_components + 1)]\n",
    "\n",
    "    return alphas, lambdas"
   ]
  },
  {
   "cell_type": "markdown",
   "metadata": {},
   "source": [
    "新しい半月型データセットを用意し, GaussカーネルPCAで1次元の部分空間に射影する."
   ]
  },
  {
   "cell_type": "code",
   "execution_count": 40,
   "metadata": {
    "collapsed": true
   },
   "outputs": [],
   "source": [
    "X, y = make_moons(n_samples=100, random_state=123)\n",
    "alphas, lambdas = rbf_kernel_pca(X, gamma=15, n_components=1)"
   ]
  },
  {
   "cell_type": "markdown",
   "metadata": {},
   "source": [
    "新しいデータ点を以下のように仮定:"
   ]
  },
  {
   "cell_type": "code",
   "execution_count": 41,
   "metadata": {
    "collapsed": false
   },
   "outputs": [
    {
     "data": {
      "text/plain": [
       "array([ 0.4816, -0.3551])"
      ]
     },
     "execution_count": 41,
     "metadata": {},
     "output_type": "execute_result"
    }
   ],
   "source": [
    "x_new = X[-1]\n",
    "x_new"
   ]
  },
  {
   "cell_type": "markdown",
   "metadata": {},
   "source": [
    "もとの射影は次の通り:"
   ]
  },
  {
   "cell_type": "code",
   "execution_count": 42,
   "metadata": {
    "collapsed": false
   },
   "outputs": [
    {
     "data": {
      "text/plain": [
       "array([ 0.1192])"
      ]
     },
     "execution_count": 42,
     "metadata": {},
     "output_type": "execute_result"
    }
   ],
   "source": [
    "x_proj = alphas[-1] # original projection\n",
    "x_proj"
   ]
  },
  {
   "cell_type": "markdown",
   "metadata": {},
   "source": [
    "新しい点とみて射影すると次のようになる."
   ]
  },
  {
   "cell_type": "code",
   "execution_count": 43,
   "metadata": {
    "collapsed": false
   },
   "outputs": [
    {
     "data": {
      "text/plain": [
       "array([ 0.1192])"
      ]
     },
     "execution_count": 43,
     "metadata": {},
     "output_type": "execute_result"
    }
   ],
   "source": [
    "def project_x(x_new, X, gamma, alphas, lambdas):\n",
    "    pair_dist = np.array([np.sum((x_new - row)**2) for row in X])\n",
    "    k = np.exp(-gamma * pair_dist)\n",
    "    return k.dot(alphas / lambdas)\n",
    "\n",
    "# projection of the \"new\" datapoint\n",
    "x_reproj = project_x(x_new, X, gamma=15, alphas=alphas, lambdas=lambdas)\n",
    "x_reproj "
   ]
  },
  {
   "cell_type": "markdown",
   "metadata": {},
   "source": [
    "一致している.\n",
    "図示してみる."
   ]
  },
  {
   "cell_type": "code",
   "execution_count": 44,
   "metadata": {
    "collapsed": false
   },
   "outputs": [
    {
     "data": {
      "image/png": "[encoded data removed]",
      "text/plain": [
       "<matplotlib.figure.Figure at 0x19d8eaf9908>"
      ]
     },
     "metadata": {},
     "output_type": "display_data"
    }
   ],
   "source": [
    "plt.scatter(alphas[y == 0, 0], np.zeros((50)),\n",
    "            color='red', marker='^', alpha=0.5)\n",
    "plt.scatter(alphas[y == 1, 0], np.zeros((50)),\n",
    "            color='blue', marker='o', alpha=0.5)\n",
    "plt.scatter(x_proj, 0, color='black',\n",
    "            label='original projection of point X[25]', marker='^', s=100)\n",
    "plt.scatter(x_reproj, 0, color='green',\n",
    "            label='remapped point X[25]', marker='x', s=500)\n",
    "plt.legend(scatterpoints=1)\n",
    "\n",
    "plt.tight_layout()\n",
    "# plt.savefig('./figures/reproject.png', dpi=300)\n",
    "plt.show()"
   ]
  },
  {
   "cell_type": "markdown",
   "metadata": {},
   "source": [
    "正しく射影できた."
   ]
  },
  {
   "cell_type": "markdown",
   "metadata": {},
   "source": [
    "ていうかscikit-learnにカーネルPCAあるじゃん."
   ]
  },
  {
   "cell_type": "code",
   "execution_count": 46,
   "metadata": {
    "collapsed": false
   },
   "outputs": [
    {
     "data": {
      "image/png": "[encoded data removed]",
      "text/plain": [
       "<matplotlib.figure.Figure at 0x19d8e8f5a90>"
      ]
     },
     "metadata": {},
     "output_type": "display_data"
    }
   ],
   "source": [
    "from sklearn.decomposition import KernelPCA\n",
    "\n",
    "X, y = make_moons(n_samples=100, random_state=123)\n",
    "scikit_kpca = KernelPCA(n_components=2, kernel='rbf', gamma=15)\n",
    "X_skernpca = scikit_kpca.fit_transform(X)\n",
    "\n",
    "plt.scatter(X_skernpca[y == 0, 0], X_skernpca[y == 0, 1],\n",
    "            color='red', marker='^', alpha=0.5)\n",
    "plt.scatter(X_skernpca[y == 1, 0], X_skernpca[y == 1, 1],\n",
    "            color='blue', marker='o', alpha=0.5)\n",
    "\n",
    "plt.xlabel('PC1')\n",
    "plt.ylabel('PC2')\n",
    "plt.tight_layout()\n",
    "# plt.savefig('./figures/scikit_kpca.png', dpi=300)\n",
    "plt.show()"
   ]
  },
  {
   "cell_type": "markdown",
   "metadata": {},
   "source": [
    "もちろん, 結果は上で実装したものと一緒."
   ]
  }
 ],
 "metadata": {
  "kernelspec": {
   "display_name": "Python 3",
   "language": "python",
   "name": "python3"
  },
  "language_info": {
   "codemirror_mode": {
    "name": "ipython",
    "version": 3
   },
   "file_extension": ".py",
   "mimetype": "text/x-python",
   "name": "python",
   "nbconvert_exporter": "python",
   "pygments_lexer": "ipython3",
   "version": "3.6.0"
  }
 },
 "nbformat": 4,
 "nbformat_minor": 2
}
