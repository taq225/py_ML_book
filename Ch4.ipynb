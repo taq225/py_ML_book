{
 "cells": [
  {
   "cell_type": "markdown",
   "metadata": {},
   "source": [
    "# Chapter 4 - データ前処理 : よりよいトレーニングセットの構築\n",
    "\n",
    "データの品質と有益な情報の量は, 機械学習アルゴリズムの学習効率を決定するうえで重要.<br />\n",
    "→ データセットを精査し, 前処理を行うのがよい.\n",
    "\n",
    "この章では, 以下について勉強する:\n",
    "\n",
    "- データセットにおける欠陥値の削除と補完\n",
    "- 機械学習のアルゴリズムに合わせたカテゴリデータの整形\n",
    "- モデルの構築に適した特徴量の選択"
   ]
  },
  {
   "cell_type": "code",
   "execution_count": null,
   "metadata": {
    "collapsed": true
   },
   "outputs": [],
   "source": []
  }
 ],
 "metadata": {
  "kernelspec": {
   "display_name": "Python 3",
   "language": "python",
   "name": "python3"
  },
  "language_info": {
   "codemirror_mode": {
    "name": "ipython",
    "version": 3
   },
   "file_extension": ".py",
   "mimetype": "text/x-python",
   "name": "python",
   "nbconvert_exporter": "python",
   "pygments_lexer": "ipython3",
   "version": "3.6.0"
  }
 },
 "nbformat": 4,
 "nbformat_minor": 2
}
